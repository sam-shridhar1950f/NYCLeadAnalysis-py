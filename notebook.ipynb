{
 "cells": [
  {
   "cell_type": "markdown",
   "metadata": {},
   "source": [
    "# Hyper-Localized Analysis of Lead Poisoning in New York City"
   ]
  },
  {
   "cell_type": "markdown",
   "metadata": {},
   "source": [
    "This analysis examines the nuances and the concerning disparities of lead poisoning in New York City's neighborhoods."
   ]
  },
  {
   "cell_type": "markdown",
   "metadata": {},
   "source": [
    "### Import libraries"
   ]
  },
  {
   "cell_type": "markdown",
   "metadata": {},
   "source": [
    "#### Import pandas, seaborn, numpy, and matplotlib."
   ]
  },
  {
   "cell_type": "code",
   "execution_count": 1,
   "metadata": {},
   "outputs": [],
   "source": [
    "import pandas as pd\n",
    "import seaborn as sns\n",
    "import matplotlib.pyplot as plt\n",
    "import numpy as np\n",
    "from IPython.display import Image\n",
    "from IPython.core.display import HTML\n",
    "%matplotlib inline"
   ]
  },
  {
   "cell_type": "markdown",
   "metadata": {},
   "source": [
    "### Import the Data"
   ]
  },
  {
   "cell_type": "code",
   "execution_count": 8,
   "metadata": {},
   "outputs": [
    {
     "data": {
      "text/html": [
       "<div>\n",
       "<style scoped>\n",
       "    .dataframe tbody tr th:only-of-type {\n",
       "        vertical-align: middle;\n",
       "    }\n",
       "\n",
       "    .dataframe tbody tr th {\n",
       "        vertical-align: top;\n",
       "    }\n",
       "\n",
       "    .dataframe thead th {\n",
       "        text-align: right;\n",
       "    }\n",
       "</style>\n",
       "<table border=\"1\" class=\"dataframe\">\n",
       "  <thead>\n",
       "    <tr style=\"text-align: right;\">\n",
       "      <th></th>\n",
       "      <th>geo_area_id</th>\n",
       "      <th>borough_id</th>\n",
       "      <th>time_period</th>\n",
       "      <th>Children under 6 years with elevated blood lead levels (BLL) Number BLL &gt;=5 µg/dL</th>\n",
       "      <th>Children under 6 years with elevated blood lead levels (BLL) Number BLL&gt;=10 µg/dL</th>\n",
       "      <th>Children under 6 years with elevated blood lead levels (BLL) Number BLL&gt;=15 µg/dL</th>\n",
       "      <th>Children under 6 years with elevated blood lead levels (BLL) Number Tested</th>\n",
       "      <th>Children under 6 years with elevated blood lead levels (BLL) Number Tested _NOTES</th>\n",
       "      <th>Children under 6 years with elevated blood lead levels (BLL) Rate  BLL&gt;=5 µg/dL per 1,000 tested</th>\n",
       "      <th>Children under 6 years with elevated blood lead levels (BLL) Rate BLL&gt;=10 µg/dL per 1,000 tested</th>\n",
       "      <th>Children under 6 years with elevated blood lead levels (BLL) Rate BLL&gt;=15 µg/dL per 1,000 tested</th>\n",
       "    </tr>\n",
       "  </thead>\n",
       "  <tbody>\n",
       "    <tr>\n",
       "      <th>count</th>\n",
       "      <td>576.000000</td>\n",
       "      <td>564.000000</td>\n",
       "      <td>576.000000</td>\n",
       "      <td>576.000000</td>\n",
       "      <td>576.000000</td>\n",
       "      <td>576.000000</td>\n",
       "      <td>576.000000</td>\n",
       "      <td>0.0</td>\n",
       "      <td>576.000000</td>\n",
       "      <td>576.000000</td>\n",
       "      <td>576.000000</td>\n",
       "    </tr>\n",
       "    <tr>\n",
       "      <th>mean</th>\n",
       "      <td>252.708333</td>\n",
       "      <td>2.851064</td>\n",
       "      <td>2010.500000</td>\n",
       "      <td>1016.967014</td>\n",
       "      <td>99.234375</td>\n",
       "      <td>34.130208</td>\n",
       "      <td>20071.180556</td>\n",
       "      <td>NaN</td>\n",
       "      <td>46.913542</td>\n",
       "      <td>4.418403</td>\n",
       "      <td>1.484549</td>\n",
       "    </tr>\n",
       "    <tr>\n",
       "      <th>std</th>\n",
       "      <td>149.094653</td>\n",
       "      <td>1.255531</td>\n",
       "      <td>3.455053</td>\n",
       "      <td>3127.307541</td>\n",
       "      <td>274.841442</td>\n",
       "      <td>93.393634</td>\n",
       "      <td>48789.333503</td>\n",
       "      <td>NaN</td>\n",
       "      <td>38.924295</td>\n",
       "      <td>3.128868</td>\n",
       "      <td>1.072739</td>\n",
       "    </tr>\n",
       "    <tr>\n",
       "      <th>min</th>\n",
       "      <td>1.000000</td>\n",
       "      <td>1.000000</td>\n",
       "      <td>2005.000000</td>\n",
       "      <td>5.000000</td>\n",
       "      <td>0.000000</td>\n",
       "      <td>0.000000</td>\n",
       "      <td>800.000000</td>\n",
       "      <td>NaN</td>\n",
       "      <td>3.100000</td>\n",
       "      <td>0.000000</td>\n",
       "      <td>0.000000</td>\n",
       "    </tr>\n",
       "    <tr>\n",
       "      <th>25%</th>\n",
       "      <td>106.750000</td>\n",
       "      <td>2.000000</td>\n",
       "      <td>2007.750000</td>\n",
       "      <td>109.500000</td>\n",
       "      <td>12.000000</td>\n",
       "      <td>4.000000</td>\n",
       "      <td>4600.000000</td>\n",
       "      <td>NaN</td>\n",
       "      <td>17.675000</td>\n",
       "      <td>2.300000</td>\n",
       "      <td>0.700000</td>\n",
       "    </tr>\n",
       "    <tr>\n",
       "      <th>50%</th>\n",
       "      <td>256.000000</td>\n",
       "      <td>3.000000</td>\n",
       "      <td>2010.500000</td>\n",
       "      <td>267.000000</td>\n",
       "      <td>31.000000</td>\n",
       "      <td>11.000000</td>\n",
       "      <td>7500.000000</td>\n",
       "      <td>NaN</td>\n",
       "      <td>32.450000</td>\n",
       "      <td>3.600000</td>\n",
       "      <td>1.300000</td>\n",
       "    </tr>\n",
       "    <tr>\n",
       "      <th>75%</th>\n",
       "      <td>402.250000</td>\n",
       "      <td>4.000000</td>\n",
       "      <td>2013.250000</td>\n",
       "      <td>700.250000</td>\n",
       "      <td>68.000000</td>\n",
       "      <td>23.250000</td>\n",
       "      <td>12200.000000</td>\n",
       "      <td>NaN</td>\n",
       "      <td>65.250000</td>\n",
       "      <td>5.600000</td>\n",
       "      <td>1.900000</td>\n",
       "    </tr>\n",
       "    <tr>\n",
       "      <th>max</th>\n",
       "      <td>504.000000</td>\n",
       "      <td>5.000000</td>\n",
       "      <td>2016.000000</td>\n",
       "      <td>37344.000000</td>\n",
       "      <td>3082.000000</td>\n",
       "      <td>1014.000000</td>\n",
       "      <td>342900.000000</td>\n",
       "      <td>NaN</td>\n",
       "      <td>182.800000</td>\n",
       "      <td>19.900000</td>\n",
       "      <td>6.000000</td>\n",
       "    </tr>\n",
       "  </tbody>\n",
       "</table>\n",
       "</div>"
      ],
      "text/plain": [
       "       geo_area_id  borough_id  time_period  \\\n",
       "count   576.000000  564.000000   576.000000   \n",
       "mean    252.708333    2.851064  2010.500000   \n",
       "std     149.094653    1.255531     3.455053   \n",
       "min       1.000000    1.000000  2005.000000   \n",
       "25%     106.750000    2.000000  2007.750000   \n",
       "50%     256.000000    3.000000  2010.500000   \n",
       "75%     402.250000    4.000000  2013.250000   \n",
       "max     504.000000    5.000000  2016.000000   \n",
       "\n",
       "       Children under 6 years with elevated blood lead levels (BLL) Number BLL >=5 µg/dL  \\\n",
       "count                                         576.000000                                   \n",
       "mean                                         1016.967014                                   \n",
       "std                                          3127.307541                                   \n",
       "min                                             5.000000                                   \n",
       "25%                                           109.500000                                   \n",
       "50%                                           267.000000                                   \n",
       "75%                                           700.250000                                   \n",
       "max                                         37344.000000                                   \n",
       "\n",
       "       Children under 6 years with elevated blood lead levels (BLL) Number BLL>=10 µg/dL  \\\n",
       "count                                         576.000000                                   \n",
       "mean                                           99.234375                                   \n",
       "std                                           274.841442                                   \n",
       "min                                             0.000000                                   \n",
       "25%                                            12.000000                                   \n",
       "50%                                            31.000000                                   \n",
       "75%                                            68.000000                                   \n",
       "max                                          3082.000000                                   \n",
       "\n",
       "       Children under 6 years with elevated blood lead levels (BLL) Number BLL>=15 µg/dL  \\\n",
       "count                                         576.000000                                   \n",
       "mean                                           34.130208                                   \n",
       "std                                            93.393634                                   \n",
       "min                                             0.000000                                   \n",
       "25%                                             4.000000                                   \n",
       "50%                                            11.000000                                   \n",
       "75%                                            23.250000                                   \n",
       "max                                          1014.000000                                   \n",
       "\n",
       "       Children under 6 years with elevated blood lead levels (BLL) Number Tested  \\\n",
       "count                                         576.000000                            \n",
       "mean                                        20071.180556                            \n",
       "std                                         48789.333503                            \n",
       "min                                           800.000000                            \n",
       "25%                                          4600.000000                            \n",
       "50%                                          7500.000000                            \n",
       "75%                                         12200.000000                            \n",
       "max                                        342900.000000                            \n",
       "\n",
       "       Children under 6 years with elevated blood lead levels (BLL) Number Tested _NOTES  \\\n",
       "count                                                0.0                                   \n",
       "mean                                                 NaN                                   \n",
       "std                                                  NaN                                   \n",
       "min                                                  NaN                                   \n",
       "25%                                                  NaN                                   \n",
       "50%                                                  NaN                                   \n",
       "75%                                                  NaN                                   \n",
       "max                                                  NaN                                   \n",
       "\n",
       "       Children under 6 years with elevated blood lead levels (BLL) Rate  BLL>=5 µg/dL per 1,000 tested  \\\n",
       "count                                         576.000000                                                  \n",
       "mean                                           46.913542                                                  \n",
       "std                                            38.924295                                                  \n",
       "min                                             3.100000                                                  \n",
       "25%                                            17.675000                                                  \n",
       "50%                                            32.450000                                                  \n",
       "75%                                            65.250000                                                  \n",
       "max                                           182.800000                                                  \n",
       "\n",
       "       Children under 6 years with elevated blood lead levels (BLL) Rate BLL>=10 µg/dL per 1,000 tested  \\\n",
       "count                                         576.000000                                                  \n",
       "mean                                            4.418403                                                  \n",
       "std                                             3.128868                                                  \n",
       "min                                             0.000000                                                  \n",
       "25%                                             2.300000                                                  \n",
       "50%                                             3.600000                                                  \n",
       "75%                                             5.600000                                                  \n",
       "max                                            19.900000                                                  \n",
       "\n",
       "       Children under 6 years with elevated blood lead levels (BLL) Rate BLL>=15 µg/dL per 1,000 tested  \n",
       "count                                         576.000000                                                 \n",
       "mean                                            1.484549                                                 \n",
       "std                                             1.072739                                                 \n",
       "min                                             0.000000                                                 \n",
       "25%                                             0.700000                                                 \n",
       "50%                                             1.300000                                                 \n",
       "75%                                             1.900000                                                 \n",
       "max                                             6.000000                                                 "
      ]
     },
     "execution_count": 8,
     "metadata": {},
     "output_type": "execute_result"
    }
   ],
   "source": [
    "df_bloodLvls = pd.read_csv(\"BloodLevels.csv\")\n",
    "df_bloodLvls.describe()"
   ]
  },
  {
   "cell_type": "markdown",
   "metadata": {},
   "source": [
    "#### Examine the head of the data."
   ]
  },
  {
   "cell_type": "code",
   "execution_count": 35,
   "metadata": {},
   "outputs": [
    {
     "data": {
      "text/html": [
       "<div>\n",
       "<style scoped>\n",
       "    .dataframe tbody tr th:only-of-type {\n",
       "        vertical-align: middle;\n",
       "    }\n",
       "\n",
       "    .dataframe tbody tr th {\n",
       "        vertical-align: top;\n",
       "    }\n",
       "\n",
       "    .dataframe thead th {\n",
       "        text-align: right;\n",
       "    }\n",
       "</style>\n",
       "<table border=\"1\" class=\"dataframe\">\n",
       "  <thead>\n",
       "    <tr style=\"text-align: right;\">\n",
       "      <th></th>\n",
       "      <th>geo_type</th>\n",
       "      <th>geo_area_id</th>\n",
       "      <th>geo_area_name</th>\n",
       "      <th>borough_id</th>\n",
       "      <th>time_period</th>\n",
       "      <th>Children under 6 years with elevated blood lead levels (BLL) Number BLL &gt;=5 µg/dL</th>\n",
       "      <th>Children under 6 years with elevated blood lead levels (BLL) Number BLL &gt;=5 µg/dL _NOTES</th>\n",
       "      <th>Children under 6 years with elevated blood lead levels (BLL) Number BLL&gt;=10 µg/dL</th>\n",
       "      <th>Children under 6 years with elevated blood lead levels (BLL) Number BLL&gt;=10 µg/dL _NOTES</th>\n",
       "      <th>Children under 6 years with elevated blood lead levels (BLL) Number BLL&gt;=15 µg/dL</th>\n",
       "      <th>Children under 6 years with elevated blood lead levels (BLL) Number BLL&gt;=15 µg/dL _NOTES</th>\n",
       "      <th>Children under 6 years with elevated blood lead levels (BLL) Number Tested</th>\n",
       "      <th>Children under 6 years with elevated blood lead levels (BLL) Number Tested _NOTES</th>\n",
       "      <th>Children under 6 years with elevated blood lead levels (BLL) Rate  BLL&gt;=5 µg/dL per 1,000 tested</th>\n",
       "      <th>Children under 6 years with elevated blood lead levels (BLL) Rate  BLL&gt;=5 µg/dL per 1,000 tested_NOTES</th>\n",
       "      <th>Children under 6 years with elevated blood lead levels (BLL) Rate BLL&gt;=10 µg/dL per 1,000 tested</th>\n",
       "      <th>Children under 6 years with elevated blood lead levels (BLL) Rate BLL&gt;=10 µg/dL per 1,000 tested_NOTES</th>\n",
       "      <th>Children under 6 years with elevated blood lead levels (BLL) Rate BLL&gt;=15 µg/dL per 1,000 tested</th>\n",
       "      <th>Children under 6 years with elevated blood lead levels (BLL) Rate BLL&gt;=15 µg/dL per 1,000 tested_NOTES</th>\n",
       "    </tr>\n",
       "  </thead>\n",
       "  <tbody>\n",
       "    <tr>\n",
       "      <th>0</th>\n",
       "      <td>Borough</td>\n",
       "      <td>1</td>\n",
       "      <td>Bronx</td>\n",
       "      <td>1.0</td>\n",
       "      <td>2005</td>\n",
       "      <td>8245</td>\n",
       "      <td>NaN</td>\n",
       "      <td>595</td>\n",
       "      <td>NaN</td>\n",
       "      <td>167</td>\n",
       "      <td>NaN</td>\n",
       "      <td>64500</td>\n",
       "      <td>NaN</td>\n",
       "      <td>127.7</td>\n",
       "      <td>NaN</td>\n",
       "      <td>9.2</td>\n",
       "      <td>NaN</td>\n",
       "      <td>2.6</td>\n",
       "      <td>NaN</td>\n",
       "    </tr>\n",
       "    <tr>\n",
       "      <th>1</th>\n",
       "      <td>Borough</td>\n",
       "      <td>1</td>\n",
       "      <td>Bronx</td>\n",
       "      <td>1.0</td>\n",
       "      <td>2006</td>\n",
       "      <td>7272</td>\n",
       "      <td>NaN</td>\n",
       "      <td>474</td>\n",
       "      <td>NaN</td>\n",
       "      <td>144</td>\n",
       "      <td>NaN</td>\n",
       "      <td>67200</td>\n",
       "      <td>NaN</td>\n",
       "      <td>108.2</td>\n",
       "      <td>NaN</td>\n",
       "      <td>7.1</td>\n",
       "      <td>NaN</td>\n",
       "      <td>2.1</td>\n",
       "      <td>NaN</td>\n",
       "    </tr>\n",
       "    <tr>\n",
       "      <th>2</th>\n",
       "      <td>Borough</td>\n",
       "      <td>1</td>\n",
       "      <td>Bronx</td>\n",
       "      <td>1.0</td>\n",
       "      <td>2007</td>\n",
       "      <td>6174</td>\n",
       "      <td>NaN</td>\n",
       "      <td>438</td>\n",
       "      <td>NaN</td>\n",
       "      <td>135</td>\n",
       "      <td>NaN</td>\n",
       "      <td>68300</td>\n",
       "      <td>NaN</td>\n",
       "      <td>90.4</td>\n",
       "      <td>NaN</td>\n",
       "      <td>6.4</td>\n",
       "      <td>NaN</td>\n",
       "      <td>2.0</td>\n",
       "      <td>NaN</td>\n",
       "    </tr>\n",
       "    <tr>\n",
       "      <th>3</th>\n",
       "      <td>Borough</td>\n",
       "      <td>1</td>\n",
       "      <td>Bronx</td>\n",
       "      <td>1.0</td>\n",
       "      <td>2008</td>\n",
       "      <td>4254</td>\n",
       "      <td>NaN</td>\n",
       "      <td>292</td>\n",
       "      <td>NaN</td>\n",
       "      <td>105</td>\n",
       "      <td>NaN</td>\n",
       "      <td>69800</td>\n",
       "      <td>NaN</td>\n",
       "      <td>60.9</td>\n",
       "      <td>NaN</td>\n",
       "      <td>4.2</td>\n",
       "      <td>NaN</td>\n",
       "      <td>1.5</td>\n",
       "      <td>NaN</td>\n",
       "    </tr>\n",
       "    <tr>\n",
       "      <th>4</th>\n",
       "      <td>Borough</td>\n",
       "      <td>1</td>\n",
       "      <td>Bronx</td>\n",
       "      <td>1.0</td>\n",
       "      <td>2009</td>\n",
       "      <td>2742</td>\n",
       "      <td>NaN</td>\n",
       "      <td>278</td>\n",
       "      <td>NaN</td>\n",
       "      <td>103</td>\n",
       "      <td>NaN</td>\n",
       "      <td>70000</td>\n",
       "      <td>NaN</td>\n",
       "      <td>39.2</td>\n",
       "      <td>NaN</td>\n",
       "      <td>4.0</td>\n",
       "      <td>NaN</td>\n",
       "      <td>1.5</td>\n",
       "      <td>NaN</td>\n",
       "    </tr>\n",
       "    <tr>\n",
       "      <th>5</th>\n",
       "      <td>Borough</td>\n",
       "      <td>1</td>\n",
       "      <td>Bronx</td>\n",
       "      <td>1.0</td>\n",
       "      <td>2010</td>\n",
       "      <td>2625</td>\n",
       "      <td>NaN</td>\n",
       "      <td>290</td>\n",
       "      <td>NaN</td>\n",
       "      <td>101</td>\n",
       "      <td>NaN</td>\n",
       "      <td>70100</td>\n",
       "      <td>NaN</td>\n",
       "      <td>37.5</td>\n",
       "      <td>NaN</td>\n",
       "      <td>4.1</td>\n",
       "      <td>NaN</td>\n",
       "      <td>1.4</td>\n",
       "      <td>NaN</td>\n",
       "    </tr>\n",
       "    <tr>\n",
       "      <th>6</th>\n",
       "      <td>Borough</td>\n",
       "      <td>1</td>\n",
       "      <td>Bronx</td>\n",
       "      <td>1.0</td>\n",
       "      <td>2011</td>\n",
       "      <td>1996</td>\n",
       "      <td>NaN</td>\n",
       "      <td>231</td>\n",
       "      <td>NaN</td>\n",
       "      <td>75</td>\n",
       "      <td>NaN</td>\n",
       "      <td>70100</td>\n",
       "      <td>NaN</td>\n",
       "      <td>28.5</td>\n",
       "      <td>NaN</td>\n",
       "      <td>3.3</td>\n",
       "      <td>NaN</td>\n",
       "      <td>1.1</td>\n",
       "      <td>NaN</td>\n",
       "    </tr>\n",
       "    <tr>\n",
       "      <th>7</th>\n",
       "      <td>Borough</td>\n",
       "      <td>1</td>\n",
       "      <td>Bronx</td>\n",
       "      <td>1.0</td>\n",
       "      <td>2012</td>\n",
       "      <td>1396</td>\n",
       "      <td>NaN</td>\n",
       "      <td>184</td>\n",
       "      <td>NaN</td>\n",
       "      <td>81</td>\n",
       "      <td>NaN</td>\n",
       "      <td>66800</td>\n",
       "      <td>NaN</td>\n",
       "      <td>20.9</td>\n",
       "      <td>NaN</td>\n",
       "      <td>2.8</td>\n",
       "      <td>NaN</td>\n",
       "      <td>1.2</td>\n",
       "      <td>NaN</td>\n",
       "    </tr>\n",
       "    <tr>\n",
       "      <th>8</th>\n",
       "      <td>Borough</td>\n",
       "      <td>1</td>\n",
       "      <td>Bronx</td>\n",
       "      <td>1.0</td>\n",
       "      <td>2013</td>\n",
       "      <td>1312</td>\n",
       "      <td>NaN</td>\n",
       "      <td>193</td>\n",
       "      <td>NaN</td>\n",
       "      <td>74</td>\n",
       "      <td>NaN</td>\n",
       "      <td>65300</td>\n",
       "      <td>NaN</td>\n",
       "      <td>20.1</td>\n",
       "      <td>NaN</td>\n",
       "      <td>3.0</td>\n",
       "      <td>NaN</td>\n",
       "      <td>1.1</td>\n",
       "      <td>NaN</td>\n",
       "    </tr>\n",
       "    <tr>\n",
       "      <th>9</th>\n",
       "      <td>Borough</td>\n",
       "      <td>1</td>\n",
       "      <td>Bronx</td>\n",
       "      <td>1.0</td>\n",
       "      <td>2014</td>\n",
       "      <td>1186</td>\n",
       "      <td>NaN</td>\n",
       "      <td>177</td>\n",
       "      <td>NaN</td>\n",
       "      <td>68</td>\n",
       "      <td>NaN</td>\n",
       "      <td>63400</td>\n",
       "      <td>NaN</td>\n",
       "      <td>18.7</td>\n",
       "      <td>NaN</td>\n",
       "      <td>2.8</td>\n",
       "      <td>NaN</td>\n",
       "      <td>1.1</td>\n",
       "      <td>NaN</td>\n",
       "    </tr>\n",
       "  </tbody>\n",
       "</table>\n",
       "</div>"
      ],
      "text/plain": [
       "  geo_type  geo_area_id geo_area_name  borough_id  time_period  \\\n",
       "0  Borough            1         Bronx         1.0         2005   \n",
       "1  Borough            1         Bronx         1.0         2006   \n",
       "2  Borough            1         Bronx         1.0         2007   \n",
       "3  Borough            1         Bronx         1.0         2008   \n",
       "4  Borough            1         Bronx         1.0         2009   \n",
       "5  Borough            1         Bronx         1.0         2010   \n",
       "6  Borough            1         Bronx         1.0         2011   \n",
       "7  Borough            1         Bronx         1.0         2012   \n",
       "8  Borough            1         Bronx         1.0         2013   \n",
       "9  Borough            1         Bronx         1.0         2014   \n",
       "\n",
       "   Children under 6 years with elevated blood lead levels (BLL) Number BLL >=5 µg/dL  \\\n",
       "0                                               8245                                   \n",
       "1                                               7272                                   \n",
       "2                                               6174                                   \n",
       "3                                               4254                                   \n",
       "4                                               2742                                   \n",
       "5                                               2625                                   \n",
       "6                                               1996                                   \n",
       "7                                               1396                                   \n",
       "8                                               1312                                   \n",
       "9                                               1186                                   \n",
       "\n",
       "  Children under 6 years with elevated blood lead levels (BLL) Number BLL >=5 µg/dL _NOTES  \\\n",
       "0                                                NaN                                         \n",
       "1                                                NaN                                         \n",
       "2                                                NaN                                         \n",
       "3                                                NaN                                         \n",
       "4                                                NaN                                         \n",
       "5                                                NaN                                         \n",
       "6                                                NaN                                         \n",
       "7                                                NaN                                         \n",
       "8                                                NaN                                         \n",
       "9                                                NaN                                         \n",
       "\n",
       "   Children under 6 years with elevated blood lead levels (BLL) Number BLL>=10 µg/dL  \\\n",
       "0                                                595                                   \n",
       "1                                                474                                   \n",
       "2                                                438                                   \n",
       "3                                                292                                   \n",
       "4                                                278                                   \n",
       "5                                                290                                   \n",
       "6                                                231                                   \n",
       "7                                                184                                   \n",
       "8                                                193                                   \n",
       "9                                                177                                   \n",
       "\n",
       "  Children under 6 years with elevated blood lead levels (BLL) Number BLL>=10 µg/dL _NOTES  \\\n",
       "0                                                NaN                                         \n",
       "1                                                NaN                                         \n",
       "2                                                NaN                                         \n",
       "3                                                NaN                                         \n",
       "4                                                NaN                                         \n",
       "5                                                NaN                                         \n",
       "6                                                NaN                                         \n",
       "7                                                NaN                                         \n",
       "8                                                NaN                                         \n",
       "9                                                NaN                                         \n",
       "\n",
       "   Children under 6 years with elevated blood lead levels (BLL) Number BLL>=15 µg/dL  \\\n",
       "0                                                167                                   \n",
       "1                                                144                                   \n",
       "2                                                135                                   \n",
       "3                                                105                                   \n",
       "4                                                103                                   \n",
       "5                                                101                                   \n",
       "6                                                 75                                   \n",
       "7                                                 81                                   \n",
       "8                                                 74                                   \n",
       "9                                                 68                                   \n",
       "\n",
       "  Children under 6 years with elevated blood lead levels (BLL) Number BLL>=15 µg/dL _NOTES  \\\n",
       "0                                                NaN                                         \n",
       "1                                                NaN                                         \n",
       "2                                                NaN                                         \n",
       "3                                                NaN                                         \n",
       "4                                                NaN                                         \n",
       "5                                                NaN                                         \n",
       "6                                                NaN                                         \n",
       "7                                                NaN                                         \n",
       "8                                                NaN                                         \n",
       "9                                                NaN                                         \n",
       "\n",
       "   Children under 6 years with elevated blood lead levels (BLL) Number Tested  \\\n",
       "0                                              64500                            \n",
       "1                                              67200                            \n",
       "2                                              68300                            \n",
       "3                                              69800                            \n",
       "4                                              70000                            \n",
       "5                                              70100                            \n",
       "6                                              70100                            \n",
       "7                                              66800                            \n",
       "8                                              65300                            \n",
       "9                                              63400                            \n",
       "\n",
       "   Children under 6 years with elevated blood lead levels (BLL) Number Tested _NOTES  \\\n",
       "0                                                NaN                                   \n",
       "1                                                NaN                                   \n",
       "2                                                NaN                                   \n",
       "3                                                NaN                                   \n",
       "4                                                NaN                                   \n",
       "5                                                NaN                                   \n",
       "6                                                NaN                                   \n",
       "7                                                NaN                                   \n",
       "8                                                NaN                                   \n",
       "9                                                NaN                                   \n",
       "\n",
       "   Children under 6 years with elevated blood lead levels (BLL) Rate  BLL>=5 µg/dL per 1,000 tested  \\\n",
       "0                                              127.7                                                  \n",
       "1                                              108.2                                                  \n",
       "2                                               90.4                                                  \n",
       "3                                               60.9                                                  \n",
       "4                                               39.2                                                  \n",
       "5                                               37.5                                                  \n",
       "6                                               28.5                                                  \n",
       "7                                               20.9                                                  \n",
       "8                                               20.1                                                  \n",
       "9                                               18.7                                                  \n",
       "\n",
       "  Children under 6 years with elevated blood lead levels (BLL) Rate  BLL>=5 µg/dL per 1,000 tested_NOTES  \\\n",
       "0                                                NaN                                                       \n",
       "1                                                NaN                                                       \n",
       "2                                                NaN                                                       \n",
       "3                                                NaN                                                       \n",
       "4                                                NaN                                                       \n",
       "5                                                NaN                                                       \n",
       "6                                                NaN                                                       \n",
       "7                                                NaN                                                       \n",
       "8                                                NaN                                                       \n",
       "9                                                NaN                                                       \n",
       "\n",
       "   Children under 6 years with elevated blood lead levels (BLL) Rate BLL>=10 µg/dL per 1,000 tested  \\\n",
       "0                                                9.2                                                  \n",
       "1                                                7.1                                                  \n",
       "2                                                6.4                                                  \n",
       "3                                                4.2                                                  \n",
       "4                                                4.0                                                  \n",
       "5                                                4.1                                                  \n",
       "6                                                3.3                                                  \n",
       "7                                                2.8                                                  \n",
       "8                                                3.0                                                  \n",
       "9                                                2.8                                                  \n",
       "\n",
       "  Children under 6 years with elevated blood lead levels (BLL) Rate BLL>=10 µg/dL per 1,000 tested_NOTES  \\\n",
       "0                                                NaN                                                       \n",
       "1                                                NaN                                                       \n",
       "2                                                NaN                                                       \n",
       "3                                                NaN                                                       \n",
       "4                                                NaN                                                       \n",
       "5                                                NaN                                                       \n",
       "6                                                NaN                                                       \n",
       "7                                                NaN                                                       \n",
       "8                                                NaN                                                       \n",
       "9                                                NaN                                                       \n",
       "\n",
       "   Children under 6 years with elevated blood lead levels (BLL) Rate BLL>=15 µg/dL per 1,000 tested  \\\n",
       "0                                                2.6                                                  \n",
       "1                                                2.1                                                  \n",
       "2                                                2.0                                                  \n",
       "3                                                1.5                                                  \n",
       "4                                                1.5                                                  \n",
       "5                                                1.4                                                  \n",
       "6                                                1.1                                                  \n",
       "7                                                1.2                                                  \n",
       "8                                                1.1                                                  \n",
       "9                                                1.1                                                  \n",
       "\n",
       "  Children under 6 years with elevated blood lead levels (BLL) Rate BLL>=15 µg/dL per 1,000 tested_NOTES  \n",
       "0                                                NaN                                                      \n",
       "1                                                NaN                                                      \n",
       "2                                                NaN                                                      \n",
       "3                                                NaN                                                      \n",
       "4                                                NaN                                                      \n",
       "5                                                NaN                                                      \n",
       "6                                                NaN                                                      \n",
       "7                                                NaN                                                      \n",
       "8                                                NaN                                                      \n",
       "9                                                NaN                                                      "
      ]
     },
     "execution_count": 35,
     "metadata": {},
     "output_type": "execute_result"
    }
   ],
   "source": [
    "df_bloodLvls.head(10)"
   ]
  },
  {
   "cell_type": "markdown",
   "metadata": {},
   "source": [
    "The data points in this dataset are sorted by borough over an interval of 2005-2016."
   ]
  },
  {
   "cell_type": "markdown",
   "metadata": {},
   "source": [
    "### Data Engineering\n",
    "\n",
    "##### Real-world data is not pre-processed for data analysis. These three operations below will help us extract some context of NYC's lead problem.\n",
    "\n",
    "1. Remove New York City for Borough List \n",
    "    - New York City is not a borough. This set of 12 data points represents holistic data, which is not helpful for a localized analysis.\n",
    "2. Average Data Points of BLL>=5 Per Year\n",
    "    - For example: Collect each data point with \"time_period\" 2005. Average these data points. \n",
    "3. Create a time series dataframe\n",
    "    - Allows us to observe lead poisoning rise/decline/stagnancy over time"
   ]
  },
  {
   "cell_type": "code",
   "execution_count": 10,
   "metadata": {
    "collapsed": true,
    "jupyter": {
     "outputs_hidden": true
    }
   },
   "outputs": [
    {
     "name": "stdout",
     "output_type": "stream",
     "text": [
      "Bayside - Little Neck (0.75, [0, 2, 1, 1, 0, 1, 0, 2, 0, 2, 0, 0])\n",
      "Union Square - Lower East Side (4.25, [0, 9, 2, 4, 5, 2, 1, 2, 4, 12, 4, 6])\n",
      "Chelsea - Clinton (1.9166666666666667, [1, 2, 0, 1, 3, 4, 3, 3, 2, 2, 1, 1])\n",
      "East New York (21.916666666666668, [14, 24, 15, 48, 23, 3, 12, 21, 17, 10, 47, 29])\n",
      "Upper East Side (2.1666666666666665, [0, 0, 1, 5, 2, 3, 5, 0, 0, 1, 8, 1])\n",
      "Stapleton - St. George (8.583333333333334, [6, 6, 19, 14, 4, 7, 7, 12, 4, 5, 1, 18])\n",
      "Northeast Bronx (12.75, [14, 9, 12, 12, 8, 14, 17, 19, 19, 12, 6, 11])\n",
      "Flushing - Clearview (8.333333333333334, [7, 10, 7, 8, 4, 9, 3, 7, 4, 11, 9, 21])\n",
      "Bensonhurst - Bay Ridge (13.583333333333334, [16, 13, 21, 19, 12, 17, 10, 11, 12, 9, 11, 12])\n",
      "Canarsie - Flatlands (6.0, [15, 2, 3, 9, 6, 2, 5, 17, 3, 2, 2, 6])\n",
      "East Harlem (5.333333333333333, [2, 9, 6, 6, 4, 3, 8, 5, 7, 6, 2, 6])\n",
      "Manhattan (44.666666666666664, [85, 92, 52, 55, 39, 45, 48, 32, 27, 20, 19, 22])\n",
      "Coney Island - Sheepshead Bay (21.25, [25, 19, 21, 28, 20, 17, 17, 26, 17, 22, 14, 29])\n",
      "Jamaica (26.0, [37, 17, 49, 40, 21, 13, 30, 25, 19, 22, 15, 24])\n",
      "Central Harlem - Morningside Heights (7.833333333333333, [4, 2, 16, 6, 15, 13, 8, 6, 11, 2, 5, 6])\n",
      "Southwest Queens (24.416666666666668, [25, 39, 17, 29, 25, 23, 24, 29, 35, 13, 19, 15])\n",
      "Bedford Stuyvesant - Crown Heights (34.333333333333336, [16, 42, 81, 21, 12, 26, 22, 17, 52, 26, 69, 28])\n",
      "Port Richmond (7.25, [4, 5, 2, 17, 11, 2, 4, 11, 6, 12, 11, 2])\n",
      "Upper West Side (3.8333333333333335, [4, 1, 3, 7, 4, 7, 3, 2, 6, 0, 6, 3])\n",
      "Fresh Meadows (3.5833333333333335, [4, 7, 4, 2, 4, 1, 1, 5, 6, 3, 1, 5])\n",
      "East Flatbush - Flatbush (29.083333333333332, [15, 26, 13, 62, 10, 26, 13, 32, 33, 11, 64, 44])\n",
      "Kingsbridge - Riverdale (2.6666666666666665, [1, 1, 4, 4, 2, 0, 1, 2, 7, 3, 3, 4])\n",
      "Hunts Point - Mott Haven (9.416666666666666, [9, 4, 11, 16, 4, 9, 5, 15, 15, 10, 12, 3])\n",
      "Rockaways (6.333333333333333, [3, 6, 8, 6, 5, 1, 3, 2, 12, 16, 7, 7])\n",
      "Washington Heights (16.25, [14, 17, 15, 9, 6, 13, 23, 6, 16, 31, 9, 36])\n",
      "Greenpoint (15.166666666666666, [11, 10, 23, 19, 8, 19, 21, 22, 8, 12, 25, 4])\n",
      "Lower Manhattan (0.9166666666666666, [0, 2, 1, 2, 1, 1, 1, 0, 0, 0, 1, 2])\n",
      "Borough Park (41.666666666666664, [44, 51, 57, 33, 35, 33, 25, 59, 54, 24, 34, 51])\n",
      "Southeast Queens (8.333333333333334, [12, 9, 9, 7, 4, 6, 8, 5, 13, 17, 4, 6])\n",
      "South Beach - Tottenville (1.9166666666666667, [2, 2, 1, 1, 3, 2, 4, 0, 3, 2, 0, 3])\n",
      "Pelham - Throgs Neck (14.25, [9, 14, 15, 11, 16, 7, 25, 11, 17, 11, 11, 24])\n",
      "High Bridge - Morrisania (16.916666666666668, [28, 19, 33, 10, 23, 14, 18, 7, 11, 26, 5, 9])\n",
      "Fordham - Bronx Pk (25.833333333333332, [23, 15, 29, 36, 18, 31, 22, 40, 21, 25, 26, 24])\n",
      "Greenwich Village - SoHo (1.1666666666666667, [1, 1, 3, 0, 1, 2, 1, 3, 0, 2, 0, 0])\n",
      "Long Island City - Astoria (12.5, [5, 7, 19, 36, 6, 12, 11, 9, 7, 4, 30, 4])\n",
      "West Queens (45.916666666666664, [42, 17, 40, 67, 44, 53, 80, 21, 19, 21, 63, 84])\n",
      "Sunset Park (12.416666666666666, [6, 7, 8, 15, 6, 19, 11, 26, 16, 15, 10, 10])\n",
      "Crotona -Tremont (16.916666666666668, [22, 20, 19, 12, 37, 15, 10, 11, 14, 18, 4, 21])\n",
      "Ridgewood - Forest Hills (11.416666666666666, [16, 9, 21, 8, 11, 14, 6, 4, 17, 9, 13, 9])\n",
      "Gramercy Park - Murray Hill (1.0, [1, 1, 4, 0, 0, 0, 1, 2, 2, 1, 0, 0])\n",
      "Downtown - Heights - Slope (11.75, [28, 19, 25, 3, 3, 12, 6, 4, 17, 8, 3, 13])\n",
      "Willowbrook (1.25, [1, 1, 3, 1, 0, 0, 2, 3, 1, 1, 1, 1])\n",
      "Williamsburg - Bushwick (28.916666666666668, [12, 27, 41, 17, 70, 30, 21, 15, 32, 47, 15, 20])\n"
     ]
    }
   ],
   "source": [
    "\n",
    "unique_cities = list(set(df_bloodLvls[\"geo_area_name\"]))\n",
    "forbidden_cities = [\"Bronx\", \"Brooklyn\", \"New York City\", \"Queens\", \"Staten Island\"]\n",
    "unique_cities\n",
    "for j in unique_cities:\n",
    "    if j in forbidden_cities:\n",
    "        unique_cities.remove(j)\n",
    "    else:\n",
    "        continue\n",
    "        \n",
    "averages_List = []\n",
    "new_avgs = []\n",
    "def avgs(loc):\n",
    "    total = 0\n",
    "    curNum = -1\n",
    "    countList = []\n",
    "    for i in df_bloodLvls[\"geo_area_name\"]:\n",
    "        curNum += 1\n",
    "        if df_bloodLvls[\"geo_area_name\"][curNum] == loc:\n",
    "            total += df_bloodLvls[\"Children under 6 years with elevated blood lead levels (BLL) Number BLL>=15 µg/dL\"][curNum]\n",
    "            countList.append(df_bloodLvls[\"Children under 6 years with elevated blood lead levels (BLL) Number BLL>=15 µg/dL\"][curNum])\n",
    "        else:\n",
    "            continue\n",
    "    averages_List.append(total/12)\n",
    "    new_avgs.append(total/12)\n",
    "    return total/12, countList\n",
    "        \n",
    "    \n",
    "for x in unique_cities:\n",
    "    print(x, avgs(x))\n",
    "    \n",
    "for p in new_avgs:\n",
    "    if p == 546.0833333333334:\n",
    "        new_avgs.remove(p)\n",
    "        \n",
    "list_05 = []\n",
    "list_06 = []\n",
    "list_07 = []\n",
    "list_08 = []\n",
    "list_09 = []\n",
    "list_10 = []\n",
    "list_11 = []\n",
    "list_12 = []\n",
    "list_13 = []\n",
    "list_14 = []\n",
    "list_15 = []\n",
    "list_16 = []\n",
    "def points(column):\n",
    "    curNum = -1\n",
    "    for i in df_bloodLvls[\"time_period\"]:\n",
    "        curNum += 1\n",
    "        if df_bloodLvls[\"time_period\"][curNum] == 2005 and df_bloodLvls[\"geo_area_name\"][curNum] not in forbidden_cities:\n",
    "                  list_05.append(df_bloodLvls[column][curNum])\n",
    "        if df_bloodLvls[\"time_period\"][curNum] == 2006 and df_bloodLvls[\"geo_area_name\"][curNum] not in forbidden_cities:\n",
    "                  list_06.append(df_bloodLvls[column][curNum])\n",
    "        if df_bloodLvls[\"time_period\"][curNum] == 2007 and df_bloodLvls[\"geo_area_name\"][curNum] not in forbidden_cities:\n",
    "                  list_07.append(df_bloodLvls[column][curNum])\n",
    "        if df_bloodLvls[\"time_period\"][curNum] == 2008 and df_bloodLvls[\"geo_area_name\"][curNum] not in forbidden_cities:\n",
    "                  list_08.append(df_bloodLvls[column][curNum])\n",
    "        if df_bloodLvls[\"time_period\"][curNum] == 2009 and df_bloodLvls[\"geo_area_name\"][curNum] not in forbidden_cities:\n",
    "                list_09.append(df_bloodLvls[column][curNum])\n",
    "        if df_bloodLvls[\"time_period\"][curNum] == 2010 and df_bloodLvls[\"geo_area_name\"][curNum] not in forbidden_cities:\n",
    "                  list_10.append(df_bloodLvls[column][curNum])\n",
    "        if df_bloodLvls[\"time_period\"][curNum] == 2011 and df_bloodLvls[\"geo_area_name\"][curNum] not in forbidden_cities:\n",
    "                  list_11.append(df_bloodLvls[column][curNum])\n",
    "        if df_bloodLvls[\"time_period\"][curNum] == 2012 and df_bloodLvls[\"geo_area_name\"][curNum] not in forbidden_cities:\n",
    "                  list_12.append(df_bloodLvls[column][curNum])\n",
    "        if df_bloodLvls[\"time_period\"][curNum] == 2013 and df_bloodLvls[\"geo_area_name\"][curNum] not in forbidden_cities:\n",
    "                  list_13.append(df_bloodLvls[column][curNum])\n",
    "        if df_bloodLvls[\"time_period\"][curNum] == 2014 and df_bloodLvls[\"geo_area_name\"][curNum] not in forbidden_cities:\n",
    "                  list_14.append(df_bloodLvls[column][curNum])\n",
    "        if df_bloodLvls[\"time_period\"][curNum] == 2015 and df_bloodLvls[\"geo_area_name\"][curNum] not in forbidden_cities:\n",
    "                  list_15.append(df_bloodLvls[column][curNum])\n",
    "        if df_bloodLvls[\"time_period\"][curNum] == 2016 and df_bloodLvls[\"geo_area_name\"][curNum] not in forbidden_cities:\n",
    "                  list_16.append(df_bloodLvls[column][curNum])\n",
    "\n",
    "                \n",
    "list_05_10 = []\n",
    "list_06_10 = []\n",
    "list_07_10 = []\n",
    "list_08_10 = []\n",
    "list_09_10 = []\n",
    "list_10_10 = []\n",
    "list_11_10 = []\n",
    "list_12_10 = []\n",
    "list_13_10 = []\n",
    "list_14_10 = []\n",
    "list_15_10 = []\n",
    "list_16_10 = []\n",
    "def points2(column):\n",
    "    curNum = -1\n",
    "    for i in df_bloodLvls[\"time_period\"]:\n",
    "        curNum += 1\n",
    "        if df_bloodLvls[\"time_period\"][curNum] == 2005 and df_bloodLvls[\"geo_area_name\"][curNum] not in forbidden_cities:\n",
    "                  list_05_10.append(df_bloodLvls[column][curNum])\n",
    "        if df_bloodLvls[\"time_period\"][curNum] == 2006 and df_bloodLvls[\"geo_area_name\"][curNum] not in forbidden_cities:\n",
    "                  list_06_10.append(df_bloodLvls[column][curNum])\n",
    "        if df_bloodLvls[\"time_period\"][curNum] == 2007 and df_bloodLvls[\"geo_area_name\"][curNum] not in forbidden_cities:\n",
    "                  list_07_10.append(df_bloodLvls[column][curNum])\n",
    "        if df_bloodLvls[\"time_period\"][curNum] == 2008 and df_bloodLvls[\"geo_area_name\"][curNum] not in forbidden_cities:\n",
    "                  list_08_10.append(df_bloodLvls[column][curNum])\n",
    "        if df_bloodLvls[\"time_period\"][curNum] == 2009 and df_bloodLvls[\"geo_area_name\"][curNum] not in forbidden_cities:\n",
    "                  list_09_10.append(df_bloodLvls[column][curNum])\n",
    "        if df_bloodLvls[\"time_period\"][curNum] == 2010 and df_bloodLvls[\"geo_area_name\"][curNum] not in forbidden_cities:\n",
    "                  list_10_10.append(df_bloodLvls[column][curNum])\n",
    "        if df_bloodLvls[\"time_period\"][curNum] == 2011 and df_bloodLvls[\"geo_area_name\"][curNum] not in forbidden_cities:\n",
    "                  list_11_10.append(df_bloodLvls[column][curNum])\n",
    "        if df_bloodLvls[\"time_period\"][curNum] == 2012 and df_bloodLvls[\"geo_area_name\"][curNum] not in forbidden_cities:\n",
    "                  list_12_10.append(df_bloodLvls[column][curNum])\n",
    "        if df_bloodLvls[\"time_period\"][curNum] == 2013 and df_bloodLvls[\"geo_area_name\"][curNum] not in forbidden_cities:\n",
    "                  list_13_10.append(df_bloodLvls[column][curNum])\n",
    "        if df_bloodLvls[\"time_period\"][curNum] == 2014 and df_bloodLvls[\"geo_area_name\"][curNum] not in forbidden_cities:\n",
    "                  list_14_10.append(df_bloodLvls[column][curNum])\n",
    "        if df_bloodLvls[\"time_period\"][curNum] == 2015 and df_bloodLvls[\"geo_area_name\"][curNum] not in forbidden_cities:\n",
    "                  list_15_10.append(df_bloodLvls[column][curNum])\n",
    "        if df_bloodLvls[\"time_period\"][curNum] == 2016 and df_bloodLvls[\"geo_area_name\"][curNum] not in forbidden_cities:\n",
    "                  list_16_10.append(df_bloodLvls[column][curNum])\n",
    "                \n",
    "list_05_100 = []\n",
    "list_06_100 = []\n",
    "list_07_100 = []\n",
    "list_08_100 = []\n",
    "list_09_100 = []\n",
    "list_10_100 = []\n",
    "list_11_100 = []\n",
    "list_12_100 = []\n",
    "list_13_100 = []\n",
    "list_14_100 = []\n",
    "list_15_100 = []\n",
    "list_16_100 = []\n",
    "def points3(column):\n",
    "    curNum = -1\n",
    "    for i in df_bloodLvls[\"time_period\"]:\n",
    "        curNum += 1\n",
    "        if df_bloodLvls[\"time_period\"][curNum] == 2005 and df_bloodLvls[\"geo_area_name\"][curNum] not in forbidden_cities:\n",
    "                  list_05_100.append(df_bloodLvls[column][curNum])\n",
    "        if df_bloodLvls[\"time_period\"][curNum] == 2006 and df_bloodLvls[\"geo_area_name\"][curNum] not in forbidden_cities:\n",
    "                  list_06_100.append(df_bloodLvls[column][curNum])\n",
    "        if df_bloodLvls[\"time_period\"][curNum] == 2007 and df_bloodLvls[\"geo_area_name\"][curNum] not in forbidden_cities:\n",
    "                  list_07_100.append(df_bloodLvls[column][curNum])\n",
    "        if df_bloodLvls[\"time_period\"][curNum] == 2008 and df_bloodLvls[\"geo_area_name\"][curNum] not in forbidden_cities:\n",
    "                  list_08_100.append(df_bloodLvls[column][curNum])\n",
    "        if df_bloodLvls[\"time_period\"][curNum] == 2009 and df_bloodLvls[\"geo_area_name\"][curNum] not in forbidden_cities:\n",
    "                  list_09_100.append(df_bloodLvls[column][curNum])\n",
    "        if df_bloodLvls[\"time_period\"][curNum] == 2010 and df_bloodLvls[\"geo_area_name\"][curNum] not in forbidden_cities:\n",
    "                  list_10_100.append(df_bloodLvls[column][curNum])\n",
    "        if df_bloodLvls[\"time_period\"][curNum] == 2011 and df_bloodLvls[\"geo_area_name\"][curNum] not in forbidden_cities:\n",
    "                  list_11_100.append(df_bloodLvls[column][curNum])\n",
    "        if df_bloodLvls[\"time_period\"][curNum] == 2012 and df_bloodLvls[\"geo_area_name\"][curNum] not in forbidden_cities:\n",
    "                  list_12_100.append(df_bloodLvls[column][curNum])\n",
    "        if df_bloodLvls[\"time_period\"][curNum] == 2013 and df_bloodLvls[\"geo_area_name\"][curNum] not in forbidden_cities:\n",
    "                  list_13_100.append(df_bloodLvls[column][curNum])\n",
    "        if df_bloodLvls[\"time_period\"][curNum] == 2014 and df_bloodLvls[\"geo_area_name\"][curNum] not in forbidden_cities:\n",
    "                  list_14_100.append(df_bloodLvls[column][curNum])\n",
    "        if df_bloodLvls[\"time_period\"][curNum] == 2015 and df_bloodLvls[\"geo_area_name\"][curNum] not in forbidden_cities:\n",
    "                  list_15_100.append(df_bloodLvls[column][curNum])\n",
    "        if df_bloodLvls[\"time_period\"][curNum] == 2016 and df_bloodLvls[\"geo_area_name\"][curNum] not in forbidden_cities:\n",
    "                  list_16_100.append(df_bloodLvls[column][curNum])\n",
    "                \n",
    "points(\"Children under 6 years with elevated blood lead levels (BLL) Number BLL>=15 µg/dL\")\n",
    "avg_05 = np.mean(list_05)\n",
    "avg_06 = np.mean(list_06)\n",
    "avg_07 = np.mean(list_07)\n",
    "avg_08 = np.mean(list_08)\n",
    "avg_09 = np.mean(list_09)\n",
    "avg_10 = np.mean(list_10)\n",
    "avg_11 = np.mean(list_11)\n",
    "avg_12 = np.mean(list_12)\n",
    "avg_13 = np.mean(list_13)\n",
    "avg_14 = np.mean(list_14)\n",
    "avg_15 = np.mean(list_15)\n",
    "avg_16 = np.mean(list_16)\n",
    "\n",
    "timeSeries = [avg_05, avg_06, avg_07, avg_08, avg_09, avg_10, avg_11, avg_12, avg_13, avg_14, avg_15, avg_16]\n",
    "years = [2005, 2006, 2007, 2008, 2009, 2010, 2011, 2012, 2013, 2014, 2015, 2016]\n",
    "\n",
    "points2(\"Children under 6 years with elevated blood lead levels (BLL) Number BLL >=5 µg/dL\")\n",
    "avg_05_10 = np.mean(list_05_10)\n",
    "avg_06_10 = np.mean(list_06_10)\n",
    "avg_07_10 = np.mean(list_07_10)\n",
    "avg_08_10 = np.mean(list_08_10)\n",
    "avg_09_10 = np.mean(list_09_10)\n",
    "avg_10_10 = np.mean(list_10_10)\n",
    "avg_11_10 = np.mean(list_11_10)\n",
    "avg_12_10 = np.mean(list_12_10)\n",
    "avg_13_10 = np.mean(list_13_10)\n",
    "avg_14_10 = np.mean(list_14_10)\n",
    "avg_15_10 = np.mean(list_15_10)\n",
    "avg_16_10 = np.mean(list_16_10)\n",
    "\n",
    "timeSeries_10 = [avg_05_10, avg_06_10, avg_07_10, avg_08_10, avg_09_10, avg_10_10, avg_11_10, avg_12_10, avg_13_10, avg_14_10, avg_15_10, avg_16_10]\n",
    "\n",
    "points3(\"Children under 6 years with elevated blood lead levels (BLL) Number BLL>=10 µg/dL\")\n",
    "avg_05_100 = np.mean(list_05_100)\n",
    "avg_06_100 = np.mean(list_06_100)\n",
    "avg_07_100 = np.mean(list_07_100)\n",
    "avg_08_100 = np.mean(list_08_100)\n",
    "avg_09_100 = np.mean(list_09_100)\n",
    "avg_10_100 = np.mean(list_10_100)\n",
    "avg_11_100 = np.mean(list_11_100)\n",
    "avg_12_100 = np.mean(list_12_100)\n",
    "avg_13_100 = np.mean(list_13_100)\n",
    "avg_14_100 = np.mean(list_14_100)\n",
    "avg_15_100 = np.mean(list_15_100)\n",
    "avg_16_100 = np.mean(list_16_100)\n",
    "\n",
    "timeSeries_100 = [avg_05_100, avg_06_100, avg_07_100, avg_08_100, avg_09_100, avg_10_100, avg_11_100, avg_12_100, avg_13_100, avg_14_100, avg_15_100, avg_16_100]\n",
    "\n",
    "\n",
    "\n",
    "\n",
    "\n",
    "\n",
    "\n",
    "\n",
    "\n",
    "\n",
    "data = {\n",
    "    \n",
    "    'BLL>=15':[avg_05, avg_06, avg_07, avg_08, avg_09, avg_10, avg_11, avg_12, avg_13, avg_14, avg_15, avg_16], \n",
    "    'BLL>=5':[avg_05_10, avg_06_10, avg_07_10, avg_08_10, avg_09_10, avg_10_10, avg_11_10, avg_12_10, avg_13_10, avg_14_10, avg_15_10, avg_16_10],\n",
    "    'BLL>=10':[avg_05_100, avg_06_100, avg_07_100, avg_08_100, avg_09_100, avg_10_100, avg_11_100, avg_12_100, avg_13_100, avg_14_100, avg_15_100, avg_16_100],\n",
    "    'years':[2005, 2006, 2007, 2008, 2009, 2010, 2011, 2012, 2013, 2014, 2015, 2016]\n",
    "\n",
    "\n",
    "\n",
    "} \n",
    "\n",
    "df_timeSeries = pd.DataFrame(data)\n"
   ]
  },
  {
   "cell_type": "code",
   "execution_count": 11,
   "metadata": {},
   "outputs": [
    {
     "data": {
      "text/html": [
       "<div>\n",
       "<style scoped>\n",
       "    .dataframe tbody tr th:only-of-type {\n",
       "        vertical-align: middle;\n",
       "    }\n",
       "\n",
       "    .dataframe tbody tr th {\n",
       "        vertical-align: top;\n",
       "    }\n",
       "\n",
       "    .dataframe thead th {\n",
       "        text-align: right;\n",
       "    }\n",
       "</style>\n",
       "<table border=\"1\" class=\"dataframe\">\n",
       "  <thead>\n",
       "    <tr style=\"text-align: right;\">\n",
       "      <th></th>\n",
       "      <th>BLL&gt;=15</th>\n",
       "      <th>BLL&gt;=5</th>\n",
       "      <th>BLL&gt;=10</th>\n",
       "      <th>years</th>\n",
       "    </tr>\n",
       "  </thead>\n",
       "  <tbody>\n",
       "    <tr>\n",
       "      <th>0</th>\n",
       "      <td>25.558140</td>\n",
       "      <td>974.255814</td>\n",
       "      <td>79.162791</td>\n",
       "      <td>2005</td>\n",
       "    </tr>\n",
       "    <tr>\n",
       "      <th>1</th>\n",
       "      <td>23.720930</td>\n",
       "      <td>903.674419</td>\n",
       "      <td>70.465116</td>\n",
       "      <td>2006</td>\n",
       "    </tr>\n",
       "    <tr>\n",
       "      <th>2</th>\n",
       "      <td>18.534884</td>\n",
       "      <td>793.325581</td>\n",
       "      <td>57.697674</td>\n",
       "      <td>2007</td>\n",
       "    </tr>\n",
       "    <tr>\n",
       "      <th>3</th>\n",
       "      <td>15.511628</td>\n",
       "      <td>527.813953</td>\n",
       "      <td>46.325581</td>\n",
       "      <td>2008</td>\n",
       "    </tr>\n",
       "    <tr>\n",
       "      <th>4</th>\n",
       "      <td>14.046512</td>\n",
       "      <td>389.069767</td>\n",
       "      <td>39.395349</td>\n",
       "      <td>2009</td>\n",
       "    </tr>\n",
       "    <tr>\n",
       "      <th>5</th>\n",
       "      <td>14.209302</td>\n",
       "      <td>351.627907</td>\n",
       "      <td>39.697674</td>\n",
       "      <td>2010</td>\n",
       "    </tr>\n",
       "    <tr>\n",
       "      <th>6</th>\n",
       "      <td>11.511628</td>\n",
       "      <td>288.023256</td>\n",
       "      <td>33.534884</td>\n",
       "      <td>2011</td>\n",
       "    </tr>\n",
       "    <tr>\n",
       "      <th>7</th>\n",
       "      <td>9.860465</td>\n",
       "      <td>204.837209</td>\n",
       "      <td>26.325581</td>\n",
       "      <td>2012</td>\n",
       "    </tr>\n",
       "    <tr>\n",
       "      <th>8</th>\n",
       "      <td>8.186047</td>\n",
       "      <td>181.558140</td>\n",
       "      <td>22.744186</td>\n",
       "      <td>2013</td>\n",
       "    </tr>\n",
       "    <tr>\n",
       "      <th>9</th>\n",
       "      <td>8.395349</td>\n",
       "      <td>164.372093</td>\n",
       "      <td>23.883721</td>\n",
       "      <td>2014</td>\n",
       "    </tr>\n",
       "    <tr>\n",
       "      <th>10</th>\n",
       "      <td>7.837209</td>\n",
       "      <td>133.558140</td>\n",
       "      <td>22.488372</td>\n",
       "      <td>2015</td>\n",
       "    </tr>\n",
       "    <tr>\n",
       "      <th>11</th>\n",
       "      <td>7.488372</td>\n",
       "      <td>120.790698</td>\n",
       "      <td>20.186047</td>\n",
       "      <td>2016</td>\n",
       "    </tr>\n",
       "  </tbody>\n",
       "</table>\n",
       "</div>"
      ],
      "text/plain": [
       "      BLL>=15      BLL>=5    BLL>=10  years\n",
       "0   25.558140  974.255814  79.162791   2005\n",
       "1   23.720930  903.674419  70.465116   2006\n",
       "2   18.534884  793.325581  57.697674   2007\n",
       "3   15.511628  527.813953  46.325581   2008\n",
       "4   14.046512  389.069767  39.395349   2009\n",
       "5   14.209302  351.627907  39.697674   2010\n",
       "6   11.511628  288.023256  33.534884   2011\n",
       "7    9.860465  204.837209  26.325581   2012\n",
       "8    8.186047  181.558140  22.744186   2013\n",
       "9    8.395349  164.372093  23.883721   2014\n",
       "10   7.837209  133.558140  22.488372   2015\n",
       "11   7.488372  120.790698  20.186047   2016"
      ]
     },
     "execution_count": 11,
     "metadata": {},
     "output_type": "execute_result"
    }
   ],
   "source": [
    "df_timeSeries.head(25)"
   ]
  },
  {
   "cell_type": "markdown",
   "metadata": {},
   "source": [
    "A time series dataset that has the average number of children with a BLL >= N per year. "
   ]
  },
  {
   "cell_type": "markdown",
   "metadata": {},
   "source": [
    "### Graph #1: Number of children with BLL>=5 from 2005-2016.\n",
    "\n",
    "We are only interested in Blood Lead Level (BLL) >= 5. As denoted by the CDC, a BLL >= 5 is the minimum debiliating BLL in growing children."
   ]
  },
  {
   "cell_type": "code",
   "execution_count": 12,
   "metadata": {},
   "outputs": [
    {
     "data": {
      "text/plain": [
       "<matplotlib.axes._subplots.AxesSubplot at 0x28bbdca4bb0>"
      ]
     },
     "execution_count": 12,
     "metadata": {},
     "output_type": "execute_result"
    },
    {
     "data": {
      "image/png": "[encoded data removed]",
      "text/plain": [
       "<Figure size 432x288 with 1 Axes>"
      ]
     },
     "metadata": {},
     "output_type": "display_data"
    }
   ],
   "source": [
    "sns.set_style(\"darkgrid\")\n",
    "sns.lineplot(x=\"years\", y=\"BLL>=5\", color=\"red\", data=df_timeSeries)"
   ]
  },
  {
   "cell_type": "markdown",
   "metadata": {},
   "source": [
    "###### NYC officials sampled this data from tested children. Thus, the number of children per year is relatively small in proportion to NYC's population. "
   ]
  },
  {
   "cell_type": "markdown",
   "metadata": {},
   "source": [
    "NYC has done a tremendous job handling the lead epidemic from 2005-2009. However, their progress has flattened in recent years."
   ]
  },
  {
   "cell_type": "markdown",
   "metadata": {},
   "source": [
    "### Applying an Exponential Regression"
   ]
  },
  {
   "cell_type": "code",
   "execution_count": 13,
   "metadata": {},
   "outputs": [
    {
     "data": {
      "text/plain": [
       "[<matplotlib.lines.Line2D at 0x28bbddc7b50>]"
      ]
     },
     "execution_count": 13,
     "metadata": {},
     "output_type": "execute_result"
    },
    {
     "data": {
      "image/png": "[encoded data removed]",
      "text/plain": [
       "<Figure size 432x288 with 1 Axes>"
      ]
     },
     "metadata": {},
     "output_type": "display_data"
    }
   ],
   "source": [
    "x_data = np.array(df_timeSeries['years'])\n",
    "\n",
    "y = np.array(df_timeSeries[\"BLL>=5\"])\n",
    "\n",
    "\n",
    "log_x_data = np.log(x_data)\n",
    "log_y_data = np.log(y)\n",
    "curve_fit = np.polyfit(x_data, log_y_data, 1)\n",
    "\n",
    "c = np.array([2005, 2006, 2007, 2008, 2009, 2010, 2011, 2012, 2013, 2014, 2015, 2016])\n",
    "\n",
    "y2 = np.exp(418.078525) * np.exp(-0.205069439*x_data)\n",
    "sns.lineplot(x=\"years\", y=\"BLL>=5\", color=\"red\", data=df_timeSeries)\n",
    "plt.plot(x_data, y, \"o\")\n",
    "plt.plot(x_data, y2)\n"
   ]
  },
  {
   "cell_type": "markdown",
   "metadata": {},
   "source": [
    "The data follows an exponential curve, indicating the the curve of people with BLL>=5 is flattening, not dying."
   ]
  },
  {
   "cell_type": "markdown",
   "metadata": {},
   "source": [
    "#### Converting Frequency of Children with BLL>=5 to Percentage of Children Tested From That Neighborhood\n",
    "\n",
    "###### Reducing the data to percentages allows us to meaningfully and ethically compare the level of lead poisoning per neighbourhood."
   ]
  },
  {
   "cell_type": "code",
   "execution_count": 14,
   "metadata": {},
   "outputs": [
    {
     "name": "stdout",
     "output_type": "stream",
     "text": [
      "Bayside - Little Neck (0.021647527910685808, ['0.005 2012', '0.043 2007', '0.013181818181818182 2011', '0.023636363636363636 2010', '0.005909090909090909 2013', '0.004545454545454545 2015', '0.029545454545454545 2008', '0.028636363636363637 2009', '0.005909090909090909 2016', '0.05421052631578947 2005', '0.042105263157894736 2006', '0.004090909090909091 2014'])\n",
      "Union Square - Lower East Side (0.04854544053143173, ['0.026326530612244898 2011', '0.11 2006', '0.008571428571428572 2016', '0.03510204081632653 2010', '0.017826086956521738 2012', '0.015128205128205128 2014', '0.010789473684210526 2015', '0.014047619047619048 2013', '0.0446 2009', '0.13122448979591836 2005', '0.06352941176470588 2008', '0.1054 2007'])\n",
      "Chelsea - Clinton (0.04058442861461437, ['0.017619047619047618 2012', '0.006842105263157895 2015', '0.01411764705882353 2014', '0.02181818181818182 2010', '0.08857142857142856 2007', '0.10318181818181818 2005', '0.018636363636363635 2011', '0.08545454545454545 2006', '0.04045454545454545 2009', '0.0077777777777777776 2016', '0.06142857142857143 2008', '0.021111111111111112 2013'])\n",
      "East New York (0.06186094502207349, ['0.01892156862745098 2015', '0.0687037037037037 2008', '0.038035714285714284 2011', '0.15336538461538463 2006', '0.045 2009', '0.01628865979381443 2016', '0.02298076923076923 2013', '0.03875 2010', '0.021568627450980392 2014', '0.026320754716981132 2012', '0.16361111111111112 2005', '0.12878504672897195 2007'])\n",
      "Upper East Side (0.022583257107534224, ['0.02744186046511628 2008', '0.008333333333333333 2014', '0.02558139534883721 2009', '0.05333333333333334 2005', '0.050625 2007', '0.010625 2012', '0.013 2011', '0.0035897435897435897 2016', '0.006666666666666667 2015', '0.009591836734693878 2010', '0.05391304347826087 2006', '0.008297872340425531 2013'])\n",
      "Stapleton - St. George (0.04303576981006101, ['0.026326530612244898 2011', '0.01904761904761905 2016', '0.08617021276595745 2006', '0.0828 2007', '0.02125 2013', '0.02020833333333333 2012', '0.04375 2009', '0.0516 2008', '0.0175 2015', '0.020869565217391306 2014', '0.029 2010', '0.09790697674418605 2005'])\n",
      "Northeast Bronx (0.04638345634548972, ['0.03493150684931507 2010', '0.018548387096774192 2014', '0.019696969696969695 2012', '0.036533333333333334 2009', '0.018615384615384617 2013', '0.057534246575342465 2008', '0.12147058823529412 2005', '0.10347826086956521 2006', '0.08901408450704225 2007', '0.02619718309859155 2011', '0.016271186440677966 2015', '0.014310344827586207 2016'])\n",
      "Flushing - Clearview (0.030392793931916757, ['0.018170731707317072 2011', '0.065 2006', '0.02869047619047619 2010', '0.057297297297297295 2007', '0.013522727272727273 2014', '0.029146341463414636 2009', '0.012758620689655173 2013', '0.01148936170212766 2015', '0.0077083333333333335 2016', '0.039 2008', '0.013571428571428571 2012', '0.06835820895522388 2005'])\n",
      "Bensonhurst - Bay Ridge (0.04281228405989632, ['0.05109375 2008', '0.017236842105263158 2016', '0.0847457627118644 2005', '0.04257575757575757 2009', '0.08548387096774193 2006', '0.04 2010', '0.0236231884057971 2012', '0.02287671232876712 2014', '0.07048387096774193 2007', '0.022837837837837837 2013', '0.033943661971830984 2011', '0.018846153846153846 2015'])\n",
      "Canarsie - Flatlands (0.0411019923647798, ['0.0945945945945946 2006', '0.013287671232876712 2014', '0.01743243243243243 2012', '0.08602739726027397 2007', '0.03626666666666667 2009', '0.01643835616438356 2013', '0.03275 2010', '0.09472972972972973 2005', '0.02430379746835443 2011', '0.011666666666666667 2015', '0.012753623188405797 2016', '0.05297297297297297 2008'])\n",
      "East Harlem (0.054181035266727205, ['0.012857142857142857 2015', '0.032 2010', '0.035111111111111114 2009', '0.026363636363636363 2011', '0.017368421052631578 2014', '0.015 2012', '0.15551020408163266 2006', '0.05891304347826087 2008', '0.015384615384615385 2013', '0.11170212765957446 2007', '0.00787878787878788 2016', '0.16208333333333333 2005'])\n",
      "Manhattan (0.04205963624046144, ['0.11050113895216401 2005', '0.10159192825112108 2006', '0.0882286995515695 2007', '0.05530751708428246 2008', '0.03646651270207852 2009', '0.02722838137472284 2010', '0.022192393736017897 2011', '0.01531615925058548 2012', '0.015133819951338199 2013', '0.014036458333333333 2014', '0.01064 2015', '0.008072625698324022 2016'])\n",
      "Coney Island - Sheepshead Bay (0.05507983887378625, ['0.11629213483146067 2005', '0.02471698113207547 2014', '0.06351063829787235 2008', '0.09483516483516484 2007', '0.04109090909090909 2011', '0.04933333333333333 2010', '0.03027777777777778 2013', '0.10098901098901099 2006', '0.02216216216216216 2016', '0.062040816326530614 2009', '0.03561904761904762 2012', '0.02009009009009009 2015'])\n",
      "Jamaica (0.04620347707715849, ['0.08349206349206349 2007', '0.02426470588235294 2012', '0.10821138211382114 2005', '0.09317073170731707 2006', '0.032285714285714286 2011', '0.01702290076335878 2016', '0.05432835820895522 2008', '0.04050359712230216 2010', '0.01774436090225564 2015', '0.04111111111111111 2009', '0.021417910447761195 2013', '0.020888888888888887 2014'])\n",
      "Central Harlem - Morningside Heights (0.052680896880556355, ['0.012641509433962264 2015', '0.020508474576271186 2013', '0.14622950819672131 2005', '0.039523809523809524 2010', '0.12317460317460317 2006', '0.09951612903225807 2007', '0.046612903225806454 2009', '0.016 2014', '0.06854838709677419 2008', '0.01540983606557377 2012', '0.013529411764705882 2016', '0.030476190476190476 2011'])\n",
      "Southwest Queens (0.04854298336130061, ['0.04258620689655172 2009', '0.11663461538461538 2005', '0.019636363636363636 2016', '0.03923076923076923 2010', '0.021636363636363638 2014', '0.05539823008849558 2008', '0.023185840707964603 2012', '0.09194444444444444 2007', '0.1003883495145631 2006', '0.019469026548672566 2015', '0.03144067796610169 2011', '0.020964912280701756 2013'])\n",
      "Bedford Stuyvesant - Crown Heights (0.06756752457933472, ['0.026861313868613138 2014', '0.08084967320261438 2008', '0.16172185430463576 2006', '0.020229007633587787 2015', '0.019918032786885247 2016', '0.052452830188679245 2009', '0.03222972972972973 2012', '0.024965034965034966 2013', '0.13934640522875816 2007', '0.04515527950310559 2011', '0.15701863354037268 2005', '0.0500625 2010'])\n",
      "Port Richmond (0.0512582517681402, ['0.031818181818181815 2013', '0.032 2011', '0.022413793103448276 2016', '0.09911764705882353 2007', '0.04823529411764706 2009', '0.03333333333333333 2014', '0.019310344827586208 2015', '0.08878787878787879 2006', '0.04055555555555555 2010', '0.10464285714285715 2005', '0.06606060606060606 2008', '0.028823529411764706 2012'])\n",
      "Upper West Side (0.03300647999212133, ['0.017543859649122806 2010', '0.01024390243902439 2015', '0.014166666666666666 2012', '0.04963636363636364 2008', '0.07232142857142858 2007', '0.01392156862745098 2011', '0.03272727272727273 2009', '0.012653061224489797 2013', '0.07672727272727273 2006', '0.012 2014', '0.07763636363636364 2005', '0.0065 2016'])\n",
      "Fresh Meadows (0.029892926263853356, ['0.0105 2015', '0.06 2005', '0.06411764705882353 2006', '0.034473684210526316 2009', '0.023846153846153847 2010', '0.007631578947368421 2016', '0.01675 2011', '0.010714285714285714 2014', '0.061714285714285715 2007', '0.014634146341463415 2013', '0.0135 2012', '0.04083333333333333 2008'])\n",
      "East Flatbush - Flatbush (0.06730336570252518, ['0.030234375 2013', '0.046206896551724136 2011', '0.02205607476635514 2016', '0.15258992805755395 2006', '0.022956521739130435 2015', '0.05707142857142857 2009', '0.033582089552238806 2012', '0.07927536231884058 2008', '0.053972602739726025 2010', '0.024918032786885248 2014', '0.1495945945945946 2005', '0.13518248175182482 2007'])\n",
      "Kingsbridge - Riverdale (0.03056250322882549, ['0.0459375 2008', '0.025757575757575757 2009', '0.0759375 2007', '0.07071428571428572 2005', '0.017941176470588235 2011', '0.00909090909090909 2013', '0.0092 2016', '0.0103125 2014', '0.061724137931034484 2006', '0.009705882352941177 2012', '0.021142857142857144 2010', '0.009285714285714286 2015'])\n",
      "Hunts Point - Mott Haven (0.047569084409144896, ['0.03402439024390244 2009', '0.011690140845070423 2015', '0.026705882352941177 2011', '0.14466666666666667 2005', '0.018048780487804877 2012', '0.01208955223880597 2016', '0.02012987012987013 2013', '0.05831325301204819 2008', '0.10481012658227848 2006', '0.0862962962962963 2007', '0.035 2010', '0.019054054054054054 2014'])\n",
      "Rockaways (0.039942472508327, ['0.016875 2013', '0.03740740740740741 2010', '0.03215686274509804 2009', '0.023703703703703703 2011', '0.017959183673469388 2014', '0.010869565217391304 2016', '0.017 2012', '0.009795918367346938 2015', '0.10533333333333333 2005', '0.09173913043478261 2006', '0.07086956521739131 2007', '0.0456 2008'])\n",
      "Washington Heights (0.04115177487791311, ['0.027 2010', '0.08540540540540541 2007', '0.031376146788990825 2009', '0.016464646464646463 2013', '0.015157894736842105 2014', '0.016886792452830188 2012', '0.05580357142857143 2008', '0.008902439024390243 2016', '0.024017857142857143 2011', '0.10177570093457944 2005', '0.011477272727272727 2015', '0.09955357142857142 2006'])\n",
      "Greenpoint (0.10856332753520498, ['0.07311111111111111 2013', '0.08040816326530613 2012', '0.1708695652173913 2006', '0.18382978723404256 2007', '0.05142857142857143 2016', '0.12183673469387755 2009', '0.136875 2008', '0.1703921568627451 2005', '0.05585365853658537 2014', '0.1052 2011', '0.10176470588235294 2010', '0.05119047619047619 2015'])\n",
      "Lower Manhattan (0.03524815115440116, ['0.005333333333333333 2015', '0.006875 2013', '0.003125 2016', '0.025 2010', '0.0825 2006', '0.1175 2005', '0.0125 2011', '0.082 2007', '0.010625 2012', '0.02909090909090909 2009', '0.0064285714285714285 2014', '0.042 2008'])\n",
      "Borough Park (0.07705142348711261, ['0.0729113924050633 2010', '0.09644444444444444 2008', '0.1305 2007', '0.052485207100591715 2012', '0.062411764705882354 2011', '0.0350609756097561 2016', '0.03476470588235294 2015', '0.12808333333333333 2005', '0.13949579831932774 2006', '0.04588235294117647 2013', '0.04105263157894737 2014', '0.08552447552447552 2009'])\n",
      "Southeast Queens (0.04234444855628685, ['0.08825396825396825 2006', '0.019193548387096773 2012', '0.043787878787878785 2009', '0.014098360655737704 2015', '0.03742424242424242 2010', '0.07725806451612903 2007', '0.01557377049180328 2013', '0.015901639344262294 2014', '0.05492307692307692 2008', '0.09861538461538462 2005', '0.03 2011', '0.01310344827586207 2016'])\n",
      "South Beach - Tottenville (0.01576363391479021, ['0.012291666666666666 2010', '0.0148 2008', '0.006666666666666667 2013', '0.006341463414634147 2014', '0.03528301886792453 2007', '0.0075675675675675675 2016', '0.0334 2005', '0.005853658536585366 2012', '0.035 2006', '0.008636363636363636 2011', '0.005238095238095238 2015', '0.018085106382978722 2009'])\n",
      "Pelham - Throgs Neck (0.04545726297128822, ['0.027661290322580644 2011', '0.017857142857142856 2014', '0.018434782608695653 2015', '0.01717948717948718 2013', '0.10784482758620689 2006', '0.016936936936936937 2016', '0.0847863247863248 2007', '0.03745901639344262 2009', '0.032926829268292684 2010', '0.05504132231404959 2008', '0.016083333333333335 2012', '0.11327586206896552 2005'])\n",
      "High Bridge - Morrisania (0.05227048809857823, ['0.1190909090909091 2006', '0.04048387096774193 2009', '0.1390990990990991 2005', '0.019304347826086955 2014', '0.041951219512195125 2010', '0.02275 2012', '0.06472 2008', '0.015504587155963303 2015', '0.0304 2011', '0.09508064516129032 2007', '0.015047619047619048 2016', '0.023813559322033898 2013'])\n",
      "Fordham - Bronx Pk (0.05325962943357401, ['0.024140625 2013', '0.0175 2015', '0.0968421052631579 2007', '0.13053846153846155 2005', '0.022125984251968503 2014', '0.046546762589928056 2009', '0.026976744186046512 2012', '0.10962406015037594 2006', '0.04525179856115108 2010', '0.06941605839416058 2008', '0.03258992805755396 2011', '0.017563025210084033 2016'])\n",
      "Greenwich Village - SoHo (0.05845717068878834, ['0.02125 2012', '0.1175 2007', '0.029411764705882353 2011', '0.05466666666666667 2009', '0.02846153846153846 2014', '0.12666666666666668 2006', '0.024666666666666667 2013', '0.1492857142857143 2005', '0.018666666666666668 2015', '0.04352941176470588 2010', '0.07666666666666666 2008', '0.010714285714285714 2016'])\n",
      "Long Island City - Astoria (0.04627197047432429, ['0.02014705882352941 2013', '0.023478260869565216 2012', '0.08971428571428572 2007', '0.09728571428571428 2006', '0.016911764705882352 2015', '0.04217391304347826 2009', '0.027 2011', '0.04028985507246377 2010', '0.05625 2008', '0.020298507462686566 2014', '0.10771428571428572 2005', '0.014 2016'])\n",
      "West Queens (0.04923491723974644, ['0.044420600858369096 2009', '0.02111607142857143 2014', '0.022606837606837606 2012', '0.0428448275862069 2010', '0.03264957264957265 2011', '0.06268398268398269 2008', '0.11018867924528301 2006', '0.020043668122270743 2013', '0.016484018264840184 2015', '0.016121495327102803 2016', '0.08419811320754716 2007', '0.11746113989637305 2005'])\n",
      "Sunset Park (0.05254493817355322, ['0.012065217391304348 2016', '0.02033333333333333 2013', '0.0175 2014', '0.09880597014925373 2007', '0.014479166666666666 2015', '0.11698412698412698 2006', '0.06693333333333333 2008', '0.1271641791044776 2005', '0.04046511627906977 2010', '0.055384615384615386 2009', '0.024725274725274724 2012', '0.035698924731182795 2011'])\n",
      "Crotona -Tremont (0.04940533210902779, ['0.09033057851239669 2007', '0.04016528925619835 2009', '0.11235294117647059 2006', '0.017522935779816513 2014', '0.13575221238938054 2005', '0.02280701754385965 2012', '0.015092592592592593 2015', '0.0365546218487395 2010', '0.013300970873786408 2016', '0.01892857142857143 2013', '0.028403361344537813 2011', '0.061652892561983474 2008'])\n",
      "Ridgewood - Forest Hills (0.04210489181076113, ['0.04193181818181818 2009', '0.015473684210526317 2015', '0.08049382716049383 2007', '0.013695652173913043 2016', '0.053863636363636364 2008', '0.029690721649484535 2011', '0.01757894736842105 2014', '0.016041666666666666 2013', '0.09423076923076923 2005', '0.04085106382978723 2010', '0.080875 2006', '0.020531914893617022 2012'])\n",
      "Gramercy Park - Murray Hill (0.033445533024480396, ['0.0033333333333333335 2016', '0.085 2005', '0.077 2006', '0.07947368421052632 2007', '0.007894736842105263 2015', '0.007222222222222222 2014', '0.0135 2012', '0.023181818181818182 2010', '0.04052631578947368 2008', '0.015714285714285715 2011', '0.0345 2009', '0.014 2013'])\n",
      "Downtown - Heights - Slope (0.05437447315931693, ['0.128 2005', '0.10432835820895522 2007', '0.11666666666666667 2006', '0.01945945945945946 2014', '0.03746987951807229 2011', '0.06704225352112676 2008', '0.028552631578947368 2012', '0.017142857142857144 2015', '0.043292682926829265 2010', '0.022083333333333333 2013', '0.018055555555555554 2016', '0.0504 2009'])\n",
      "Willowbrook (0.0195704988851728, ['0.009565217391304347 2013', '0.021153846153846155 2008', '0.025 2009', '0.033846153846153845 2007', '0.01423076923076923 2010', '0.008636363636363636 2016', '0.045 2005', '0.01125 2012', '0.007272727272727273 2014', '0.0148 2011', '0.04 2006', '0.004090909090909091 2015'])\n",
      "Williamsburg - Bushwick (0.07039073628676763, ['0.021058823529411765 2016', '0.05745901639344262 2010', '0.1256140350877193 2007', '0.03723214285714286 2012', '0.17862068965517242 2005', '0.07905982905982906 2008', '0.04416666666666667 2011', '0.021739130434782608 2015', '0.06428571428571428 2009', '0.15836206896551724 2006', '0.029716981132075472 2013', '0.027373737373737373 2014'])\n"
     ]
    }
   ],
   "source": [
    "\n",
    "\n",
    "pre_avgs = []\n",
    "def normalize(location, column):\n",
    "    curNum = -1\n",
    "    countList = []\n",
    "    total = 0\n",
    "    for city in df_bloodLvls[\"geo_area_name\"]:\n",
    "        curNum += 1\n",
    "        if location == city:\n",
    "            num = df_bloodLvls[column][curNum]/df_bloodLvls[\"Children under 6 years with elevated blood lead levels (BLL) Number Tested\"][curNum]\n",
    "            total += num\n",
    "            countList.append(str(num) + \" \" + str(df_bloodLvls[\"time_period\"][curNum]))\n",
    "        else:\n",
    "            continue\n",
    "    pre_avgs.append(total/12)\n",
    "    return total/12, countList\n",
    "    \n",
    "for x in unique_cities:\n",
    "    print(x, normalize(x, \"Children under 6 years with elevated blood lead levels (BLL) Number BLL >=5 µg/dL\"))\n",
    "    "
   ]
  },
  {
   "cell_type": "code",
   "execution_count": 15,
   "metadata": {},
   "outputs": [],
   "source": [
    "post_avgs = [num*100 for num in pre_avgs]\n",
    "pre_avgs\n",
    "\n",
    "data_perc = {'percentage':[0.04281228405989632,\n",
    " 0.04940533210902779,\n",
    " 0.04627197047432429,\n",
    " 0.03056250322882549,\n",
    " 0.0411019923647798,\n",
    " 0.01576363391479021,\n",
    " 0.04620347707715849,\n",
    " 0.04234444855628685,\n",
    " 0.029892926263853356,\n",
    " 0.033445533024480396,\n",
    " 0.07039073628676763,\n",
    " 0.04638345634548972,\n",
    " 0.04923491723974644,\n",
    " 0.054181035266727205,\n",
    " 0.047569084409144896,\n",
    " 0.03300647999212133,\n",
    " 0.05507983887378625,\n",
    " 0.04058442861461437,\n",
    " 0.039942472508327,\n",
    " 0.04545726297128822,\n",
    " 0.04303576981006101,\n",
    " 0.06186094502207349,\n",
    " 0.04854544053143173,\n",
    " 0.04854298336130061,\n",
    " 0.052680896880556355,\n",
    " 0.05437447315931693,\n",
    " 0.06756752457933472,\n",
    " 0.06730336570252518,\n",
    " 0.0195704988851728,\n",
    " 0.04210489181076113,\n",
    " 0.04205963624046144,\n",
    " 0.05845717068878834,\n",
    " 0.03524815115440116,\n",
    " 0.022583257107534224,\n",
    " 0.0512582517681402,\n",
    " 0.04115177487791311,\n",
    " 0.021647527910685808,\n",
    " 0.05254493817355322,\n",
    " 0.05227048809857823,\n",
    " 0.030392793931916757,\n",
    " 0.10856332753520498,\n",
    " 0.05325962943357401,\n",
    " 0.07705142348711261]}\n",
    "df_perc = pd.DataFrame(data)"
   ]
  },
  {
   "cell_type": "markdown",
   "metadata": {},
   "source": [
    "# Hyper-Local Variance Analysis\n",
    "##### Analyzing and visualizing the lead risk per NYC neighorhood."
   ]
  },
  {
   "cell_type": "code",
   "execution_count": 16,
   "metadata": {},
   "outputs": [
    {
     "data": {
      "text/html": [
       "<div>\n",
       "<style scoped>\n",
       "    .dataframe tbody tr th:only-of-type {\n",
       "        vertical-align: middle;\n",
       "    }\n",
       "\n",
       "    .dataframe tbody tr th {\n",
       "        vertical-align: top;\n",
       "    }\n",
       "\n",
       "    .dataframe thead th {\n",
       "        text-align: right;\n",
       "    }\n",
       "</style>\n",
       "<table border=\"1\" class=\"dataframe\">\n",
       "  <thead>\n",
       "    <tr style=\"text-align: right;\">\n",
       "      <th></th>\n",
       "      <th>Neighborhood</th>\n",
       "      <th>% With Lead Risk</th>\n",
       "      <th>Poverty Rate</th>\n",
       "      <th>Median Income</th>\n",
       "      <th>Average Income</th>\n",
       "      <th>Borough</th>\n",
       "      <th>Unnamed: 6</th>\n",
       "      <th>Unnamed: 7</th>\n",
       "    </tr>\n",
       "  </thead>\n",
       "  <tbody>\n",
       "    <tr>\n",
       "      <th>0</th>\n",
       "      <td>Bensonhurst - Bay Ridge</td>\n",
       "      <td>0.017237</td>\n",
       "      <td>20</td>\n",
       "      <td>55,360</td>\n",
       "      <td>74,157</td>\n",
       "      <td>Brooklyn</td>\n",
       "      <td>NaN</td>\n",
       "      <td>NaN</td>\n",
       "    </tr>\n",
       "    <tr>\n",
       "      <th>1</th>\n",
       "      <td>Crotona -Tremont</td>\n",
       "      <td>0.013301</td>\n",
       "      <td>37.7</td>\n",
       "      <td>26,910</td>\n",
       "      <td>NaN</td>\n",
       "      <td>Bronx</td>\n",
       "      <td>NaN</td>\n",
       "      <td>NaN</td>\n",
       "    </tr>\n",
       "    <tr>\n",
       "      <th>2</th>\n",
       "      <td>Long Island City - Astoria</td>\n",
       "      <td>0.014000</td>\n",
       "      <td>17</td>\n",
       "      <td>65,392.00</td>\n",
       "      <td>97,379</td>\n",
       "      <td>Queens</td>\n",
       "      <td>NaN</td>\n",
       "      <td>NaN</td>\n",
       "    </tr>\n",
       "    <tr>\n",
       "      <th>3</th>\n",
       "      <td>Kingsbridge - Riverdale</td>\n",
       "      <td>0.009200</td>\n",
       "      <td>27.80%</td>\n",
       "      <td>58,551</td>\n",
       "      <td>83674</td>\n",
       "      <td>Bronx</td>\n",
       "      <td>NaN</td>\n",
       "      <td>NaN</td>\n",
       "    </tr>\n",
       "    <tr>\n",
       "      <th>4</th>\n",
       "      <td>Canarsie - Flatlands</td>\n",
       "      <td>0.012754</td>\n",
       "      <td>9.60%</td>\n",
       "      <td>67,669.00</td>\n",
       "      <td>83,059</td>\n",
       "      <td>Brooklyn</td>\n",
       "      <td>NaN</td>\n",
       "      <td>NaN</td>\n",
       "    </tr>\n",
       "    <tr>\n",
       "      <th>5</th>\n",
       "      <td>South Beach - Tottenville</td>\n",
       "      <td>0.007568</td>\n",
       "      <td>9.3</td>\n",
       "      <td>80,361</td>\n",
       "      <td>90629.89</td>\n",
       "      <td>Staten Island</td>\n",
       "      <td>NaN</td>\n",
       "      <td>reason for outier is significant water quality...</td>\n",
       "    </tr>\n",
       "    <tr>\n",
       "      <th>6</th>\n",
       "      <td>Jamaica</td>\n",
       "      <td>0.017023</td>\n",
       "      <td>13.1</td>\n",
       "      <td>48,559</td>\n",
       "      <td>76362</td>\n",
       "      <td>Queens</td>\n",
       "      <td>NaN</td>\n",
       "      <td>NaN</td>\n",
       "    </tr>\n",
       "    <tr>\n",
       "      <th>7</th>\n",
       "      <td>Southeast Queens</td>\n",
       "      <td>0.013103</td>\n",
       "      <td>13</td>\n",
       "      <td>72,290</td>\n",
       "      <td>67190</td>\n",
       "      <td>Queens</td>\n",
       "      <td>NaN</td>\n",
       "      <td>NaN</td>\n",
       "    </tr>\n",
       "    <tr>\n",
       "      <th>8</th>\n",
       "      <td>Fresh Meadows</td>\n",
       "      <td>0.007632</td>\n",
       "      <td>13</td>\n",
       "      <td>66,483</td>\n",
       "      <td>80815</td>\n",
       "      <td>Queens</td>\n",
       "      <td>NaN</td>\n",
       "      <td>NaN</td>\n",
       "    </tr>\n",
       "    <tr>\n",
       "      <th>9</th>\n",
       "      <td>Gramercy Park - Murray Hill</td>\n",
       "      <td>0.003333</td>\n",
       "      <td>11</td>\n",
       "      <td>115,027</td>\n",
       "      <td>189,311.94</td>\n",
       "      <td>Manhattan</td>\n",
       "      <td>NaN</td>\n",
       "      <td>NaN</td>\n",
       "    </tr>\n",
       "  </tbody>\n",
       "</table>\n",
       "</div>"
      ],
      "text/plain": [
       "                  Neighborhood  % With Lead Risk Poverty Rate Median Income  \\\n",
       "0      Bensonhurst - Bay Ridge          0.017237           20        55,360   \n",
       "1             Crotona -Tremont          0.013301         37.7        26,910   \n",
       "2   Long Island City - Astoria          0.014000           17     65,392.00   \n",
       "3      Kingsbridge - Riverdale          0.009200       27.80%        58,551   \n",
       "4         Canarsie - Flatlands          0.012754        9.60%     67,669.00   \n",
       "5    South Beach - Tottenville          0.007568          9.3        80,361   \n",
       "6                      Jamaica          0.017023         13.1        48,559   \n",
       "7             Southeast Queens          0.013103           13        72,290   \n",
       "8                Fresh Meadows          0.007632           13        66,483   \n",
       "9  Gramercy Park - Murray Hill          0.003333           11       115,027   \n",
       "\n",
       "  Average Income        Borough  Unnamed: 6  \\\n",
       "0         74,157       Brooklyn         NaN   \n",
       "1            NaN          Bronx         NaN   \n",
       "2         97,379         Queens         NaN   \n",
       "3          83674          Bronx         NaN   \n",
       "4         83,059       Brooklyn         NaN   \n",
       "5       90629.89  Staten Island         NaN   \n",
       "6          76362         Queens         NaN   \n",
       "7          67190         Queens         NaN   \n",
       "8          80815         Queens         NaN   \n",
       "9     189,311.94      Manhattan         NaN   \n",
       "\n",
       "                                          Unnamed: 7  \n",
       "0                                                NaN  \n",
       "1                                                NaN  \n",
       "2                                                NaN  \n",
       "3                                                NaN  \n",
       "4                                                NaN  \n",
       "5  reason for outier is significant water quality...  \n",
       "6                                                NaN  \n",
       "7                                                NaN  \n",
       "8                                                NaN  \n",
       "9                                                NaN  "
      ]
     },
     "execution_count": 16,
     "metadata": {},
     "output_type": "execute_result"
    }
   ],
   "source": [
    "df_povertyRate = pd.read_csv(\"daby2.csv\")\n",
    "df_povertyRate.head(10)"
   ]
  },
  {
   "cell_type": "markdown",
   "metadata": {},
   "source": [
    "###### This dataset consists of fourty-three neighborhoods, with a respective lead risk, poverty rate, median income, and average income value. Additionally, their borough is included."
   ]
  },
  {
   "cell_type": "markdown",
   "metadata": {},
   "source": [
    "### Distribution of Percentage Lead Risk"
   ]
  },
  {
   "cell_type": "code",
   "execution_count": 17,
   "metadata": {},
   "outputs": [
    {
     "data": {
      "image/png": "[encoded data removed]",
      "text/plain": [
       "<Figure size 1440x576 with 1 Axes>"
      ]
     },
     "metadata": {},
     "output_type": "display_data"
    }
   ],
   "source": [
    "fig_dims = (20, 8)\n",
    "fig, ax = plt.subplots(figsize=fig_dims)\n",
    "ax = sns.distplot(df_povertyRate[\"% With Lead Risk\"], color=\"y\")"
   ]
  },
  {
   "cell_type": "markdown",
   "metadata": {},
   "source": [
    "###### The bell curve lives in the intervals [0%, ~2.5%]. The outliers in this dataset lie beyond 3%. "
   ]
  },
  {
   "cell_type": "code",
   "execution_count": 24,
   "metadata": {},
   "outputs": [],
   "source": [
    "df_pov = df_povertyRate"
   ]
  },
  {
   "cell_type": "markdown",
   "metadata": {},
   "source": [
    "### Data Engineering Pt. 2\n",
    "\n",
    "1. Fill in missing values\n",
    "2. If data is too obscure, drop neighborhood and its respective data completely.\n",
    "    - For ethical sanctity, if there is no data for a neighborhood, it cannot be compared fairly against other neighborhoods and must be removed."
   ]
  },
  {
   "cell_type": "code",
   "execution_count": 27,
   "metadata": {},
   "outputs": [
    {
     "data": {
      "text/plain": [
       "<matplotlib.axes._subplots.AxesSubplot at 0x28bbdf12c10>"
      ]
     },
     "execution_count": 27,
     "metadata": {},
     "output_type": "execute_result"
    },
    {
     "data": {
      "image/png": "[encoded data removed]",
      "text/plain": [
       "<Figure size 864x576 with 2 Axes>"
      ]
     },
     "metadata": {},
     "output_type": "display_data"
    }
   ],
   "source": [
    "plt.figure(figsize=(12,8))\n",
    "cmap = sns.cubehelix_palette(light=1, as_cmap=True, reverse=True)\n",
    "sns.heatmap(df_pov.isnull(), cmap=cmap)"
   ]
  },
  {
   "cell_type": "markdown",
   "metadata": {},
   "source": [
    "###### There is a sizable portion of missing data in the columns \"Average Income\" and \"Median Income.\""
   ]
  },
  {
   "cell_type": "code",
   "execution_count": 28,
   "metadata": {},
   "outputs": [],
   "source": [
    "df_pov.to_excel(\"missingVals.xlsx\")"
   ]
  },
  {
   "cell_type": "markdown",
   "metadata": {},
   "source": [
    "```python\n",
    "plt.figure(figsize=(12,8))\n",
    "cmap = sns.cubehelix_palette(light=1, as_cmap=True, reverse=True)\n",
    "sns.heatmap(df_pov_u.isnull(), cmap=cmap)\n",
    "```"
   ]
  },
  {
   "cell_type": "code",
   "execution_count": 11,
   "metadata": {},
   "outputs": [
    {
     "data": {
      "text/html": [
       "<img src=\"https://raw.githubusercontent.com/sam-shridhar1950f/nyc-lead/main/daby/heatplot.png\"/>"
      ],
      "text/plain": [
       "<IPython.core.display.Image object>"
      ]
     },
     "execution_count": 11,
     "metadata": {},
     "output_type": "execute_result"
    }
   ],
   "source": [
    "Image(url= \"https://raw.githubusercontent.com/sam-shridhar1950f/nyc-lead/main/daby/heatplot.png\")"
   ]
  },
  {
   "cell_type": "markdown",
   "metadata": {},
   "source": [
    "###### Using data from Point2Homes, we filled in the missing data. Dropping a neighorhood is unnecessary."
   ]
  },
  {
   "cell_type": "markdown",
   "metadata": {},
   "source": [
    "#### Now that we have complete, accurate, and comparable data, we can visualize NYC's lead risk geographically. "
   ]
  },
  {
   "cell_type": "markdown",
   "metadata": {},
   "source": [
    "#### Geographical heatmaps provides a visual rendition that can help identify areas of special attention."
   ]
  },
  {
   "cell_type": "markdown",
   "metadata": {},
   "source": [
    "# Geographical Visualization"
   ]
  },
  {
   "cell_type": "markdown",
   "metadata": {},
   "source": [
    "```python \n",
    "import geopandas as gpd\n",
    "sns.set(style=\"darkgrid\")\n",
    "\n",
    "nb = 'geo_export_7e724bd2-6b59-45bb-a9ce-4ccfcba60fb3.shp'\n",
    "regions = gpd.read_file(nb)\n",
    "regions.plot(figsize=(40,20))\n",
    "plt.show()\n",
    "```"
   ]
  },
  {
   "cell_type": "code",
   "execution_count": 2,
   "metadata": {},
   "outputs": [
    {
     "data": {
      "text/html": [
       "<img src=\"https://raw.githubusercontent.com/sam-shridhar1950f/nyc-lead/main/daby/nyc.png\"/>"
      ],
      "text/plain": [
       "<IPython.core.display.Image object>"
      ]
     },
     "execution_count": 2,
     "metadata": {},
     "output_type": "execute_result"
    }
   ],
   "source": [
    "Image(url= \"https://raw.githubusercontent.com/sam-shridhar1950f/nyc-lead/main/daby/nyc.png\")"
   ]
  },
  {
   "cell_type": "markdown",
   "metadata": {},
   "source": [
    "##### Blank canvas of NYC's neighborhoods."
   ]
  },
  {
   "cell_type": "markdown",
   "metadata": {},
   "source": [
    "```python \n",
    "dab = pd.read_csv(\"data.csv\")\n",
    "\n",
    "merged = regions.set_index('ntaname').join(dab.set_index('ntaname'))\n",
    "merged = merged.reset_index()\n",
    "merged[['ntaname', 'shape_area', 'shape_leng', 'geometry', 'Unnamed: 1']].sample(5)\n",
    "merged['Unnamed: 1'] = merged['Unnamed: 1'].fillna(0)\n",
    "fig, ax = plt.subplots(1, figsize=(40, 20))\n",
    "ax.axis('off')\n",
    "ax.set_title('Heat Map of Lead Poisoning, New York City', fontdict={'fontsize': '40', 'fontweight' : '3'})\n",
    "\n",
    "color = 'inferno_r'\n",
    "vmin, vmax = 0, 0.06\n",
    "sm = plt.cm.ScalarMappable(cmap=color, norm=plt.Normalize(vmin=vmin, vmax=vmax))\n",
    "sm._A = []\n",
    "cbar = fig.colorbar(sm)\n",
    "cbar.ax.tick_params(labelsize=20)\n",
    "\n",
    "merged.plot('Unnamed: 1', cmap=color, linewidth=0.8, ax=ax, edgecolor='0.8', figsize=(40,20))\n",
    "```"
   ]
  },
  {
   "cell_type": "code",
   "execution_count": 3,
   "metadata": {},
   "outputs": [
    {
     "data": {
      "text/html": [
       "<img src=\"https://raw.githubusercontent.com/sam-shridhar1950f/nyc-lead/main/daby/nyc2.png\"/>"
      ],
      "text/plain": [
       "<IPython.core.display.Image object>"
      ]
     },
     "execution_count": 3,
     "metadata": {},
     "output_type": "execute_result"
    }
   ],
   "source": [
    "Image(url= \"https://raw.githubusercontent.com/sam-shridhar1950f/nyc-lead/main/daby/nyc2.png\")"
   ]
  },
  {
   "cell_type": "markdown",
   "metadata": {},
   "source": [
    "###### Brooklyn, South Queens, and Northern Manhattan (Harlem) are the obvious disaffected areas. However, with extrapolation, Northern Staten Island is also a high-risk principality. "
   ]
  },
  {
   "cell_type": "code",
   "execution_count": 4,
   "metadata": {},
   "outputs": [
    {
     "data": {
      "text/html": [
       "<img src=\"https://raw.githubusercontent.com/sam-shridhar1950f/nyc-lead/main/daby/LeadRisk.png\"/>"
      ],
      "text/plain": [
       "<IPython.core.display.Image object>"
      ]
     },
     "execution_count": 4,
     "metadata": {},
     "output_type": "execute_result"
    }
   ],
   "source": [
    "Image(url= \"https://raw.githubusercontent.com/sam-shridhar1950f/nyc-lead/main/daby/LeadRisk.png\")"
   ]
  },
  {
   "cell_type": "markdown",
   "metadata": {},
   "source": [
    "###### Seven out of the ten most at-risk neighborhoods are in Central Brooklyn. Two are in north Staten Island, and 1 in South Queens. This data thus bolsters the previous analysis."
   ]
  },
  {
   "cell_type": "code",
   "execution_count": 18,
   "metadata": {
    "collapsed": true,
    "jupyter": {
     "outputs_hidden": true
    }
   },
   "outputs": [
    {
     "name": "stderr",
     "output_type": "stream",
     "text": [
      "<ipython-input-18-7776be228b5f>:6: SettingWithCopyWarning: \n",
      "A value is trying to be set on a copy of a slice from a DataFrame\n",
      "\n",
      "See the caveats in the documentation: https://pandas.pydata.org/pandas-docs/stable/user_guide/indexing.html#returning-a-view-versus-a-copy\n",
      "  df_povertyRate[\"Average Income\"][cur] = df_povertyRate[\"Average Income\"][cur].replace(',', '')\n",
      "<ipython-input-18-7776be228b5f>:15: SettingWithCopyWarning: \n",
      "A value is trying to be set on a copy of a slice from a DataFrame\n",
      "\n",
      "See the caveats in the documentation: https://pandas.pydata.org/pandas-docs/stable/user_guide/indexing.html#returning-a-view-versus-a-copy\n",
      "  df_povertyRate[\"Poverty Rate\"][cur] = df_povertyRate[\"Poverty Rate\"][cur].replace('%', '')\n",
      "<ipython-input-18-7776be228b5f>:22: SettingWithCopyWarning: \n",
      "A value is trying to be set on a copy of a slice from a DataFrame\n",
      "\n",
      "See the caveats in the documentation: https://pandas.pydata.org/pandas-docs/stable/user_guide/indexing.html#returning-a-view-versus-a-copy\n",
      "  df_povertyRate[\"Median Income\"][cur] = df_povertyRate[\"Median Income\"][cur].replace(',', '')\n"
     ]
    }
   ],
   "source": [
    "cur = -1\n",
    "for l in df_povertyRate[\"Average Income\"]:\n",
    "    cur += 1\n",
    "    if isinstance(l, str) == True:\n",
    "        if \",\" in l:\n",
    "            df_povertyRate[\"Average Income\"][cur] = df_povertyRate[\"Average Income\"][cur].replace(',', '')\n",
    "\n",
    "cur = -1\n",
    "for l in df_povertyRate[\"Poverty Rate\"]:\n",
    "    cur += 1\n",
    "    if isinstance(l, str) == True:\n",
    "        if \",\" in l:\n",
    "            df_povertyRate[\"Poverty Rate\"][cur] = df_povertyRate[\"Poverty Rate\"][cur].replace(',', '')\n",
    "        if \"%\" in l:\n",
    "            df_povertyRate[\"Poverty Rate\"][cur] = df_povertyRate[\"Poverty Rate\"][cur].replace('%', '')\n",
    "\n",
    "cur = -1\n",
    "for l in df_povertyRate[\"Median Income\"]:\n",
    "    cur += 1\n",
    "    if isinstance(l, str) == True:\n",
    "        if \",\" in l:\n",
    "            df_povertyRate[\"Median Income\"][cur] = df_povertyRate[\"Median Income\"][cur].replace(',', '')\n",
    "            \n",
    "df_povertyRate['Average Income'] = df_povertyRate['Average Income'].astype(float)\n",
    "df_povertyRate['Poverty Rate'] = df_povertyRate['Poverty Rate'].astype(float)\n",
    "df_povertyRate['Median Income'] = df_povertyRate['Median Income'].astype(float)"
   ]
  },
  {
   "cell_type": "code",
   "execution_count": 19,
   "metadata": {},
   "outputs": [
    {
     "data": {
      "text/plain": [
       "<seaborn.axisgrid.JointGrid at 0x28bbddcfaf0>"
      ]
     },
     "execution_count": 19,
     "metadata": {},
     "output_type": "execute_result"
    },
    {
     "data": {
      "image/png": "[encoded data removed]",
      "text/plain": [
       "<Figure size 432x432 with 3 Axes>"
      ]
     },
     "metadata": {},
     "output_type": "display_data"
    }
   ],
   "source": [
    "sns.jointplot(x='Average Income',y='% With Lead Risk',data=df_povertyRate,color='purple')"
   ]
  },
  {
   "cell_type": "code",
   "execution_count": 20,
   "metadata": {},
   "outputs": [
    {
     "data": {
      "text/plain": [
       "<matplotlib.axes._subplots.AxesSubplot at 0x28bbdff89d0>"
      ]
     },
     "execution_count": 20,
     "metadata": {},
     "output_type": "execute_result"
    },
    {
     "data": {
      "image/png": "[encoded data removed]",
      "text/plain": [
       "<Figure size 576x432 with 1 Axes>"
      ]
     },
     "metadata": {},
     "output_type": "display_data"
    },
    {
     "data": {
      "image/png": "[encoded data removed]",
      "text/plain": [
       "<Figure size 576x432 with 1 Axes>"
      ]
     },
     "metadata": {},
     "output_type": "display_data"
    },
    {
     "data": {
      "image/png": "[encoded data removed]",
      "text/plain": [
       "<Figure size 576x432 with 1 Axes>"
      ]
     },
     "metadata": {},
     "output_type": "display_data"
    }
   ],
   "source": [
    "fig_dims = (8, 6)\n",
    "fig, ax = plt.subplots(figsize=fig_dims)\n",
    "sns.scatterplot(data=df_povertyRate, x=\"Average Income\", y=\"% With Lead Risk\", hue=\"Borough\")\n",
    "\n",
    "fig_dims = (8, 6)\n",
    "fig, ax = plt.subplots(figsize=fig_dims)\n",
    "sns.scatterplot(data=df_povertyRate, x=\"Poverty Rate\", y=\"% With Lead Risk\", hue=\"Borough\")\n",
    "\n",
    "fig_dims = (8, 6)\n",
    "fig, ax = plt.subplots(figsize=fig_dims)\n",
    "sns.scatterplot(data=df_povertyRate, x=\"Median Income\", y=\"% With Lead Risk\", hue=\"Borough\")"
   ]
  },
  {
   "cell_type": "markdown",
   "metadata": {},
   "source": [
    "##### Poverty Conclusion: WIP"
   ]
  },
  {
   "cell_type": "markdown",
   "metadata": {
    "jupyter": {
     "outputs_hidden": true
    }
   },
   "source": [
    "# Effects on Racial Minoritites"
   ]
  },
  {
   "cell_type": "markdown",
   "metadata": {},
   "source": [
    "```python\n",
    "df_dems = pd.read_excel(\"RaceData.xlsx\")\n",
    "\n",
    "minorities = df_dems.iloc[44]\n",
    "minorities = list(minorities)\n",
    "\n",
    "df_nbds = pd.read_csv(\"data.csv\")\n",
    "\n",
    "df_nbds\n",
    "nbds =[]\n",
    "for nbd in df_nbds[\"ntaname\"]:\n",
    "    nbds.append(nbd)\n",
    "    \n",
    "df_demsNbds = df_dems.iloc[4]\n",
    "df_demsNbds = list(df_demsNbds)\n",
    "\n",
    "nb = 'geo_export_7e724bd2-6b59-45bb-a9ce-4ccfcba60fb3.shp'\n",
    "regions = gpd.read_file(nb)\n",
    "\n",
    "f = [str(j) for j in df_demsNbds]\n",
    "\n",
    "cleanedList = [x for x in f if x != \"nan\"]\n",
    "\n",
    "sames = []\n",
    "for x in cleanedList:\n",
    "    for j in g:\n",
    "        if x.find(j) != -1:\n",
    "            sames.append(j)\n",
    "sames2 = []\n",
    "for x in cleanedList:\n",
    "    for j in g:\n",
    "        if x.find(j) != -1:\n",
    "            sames2.append(x)\n",
    "minorities.remove(\"    Black or African American\")\n",
    "del minorities[0:2]\n",
    "mino = minorities[::4]\n",
    "rang = []\n",
    "for x in range(0,195):\n",
    "    rang.append(str(x))\n",
    "\n",
    "\n",
    "details = { \n",
    "    'ntaname' : cleanedList, \n",
    "    'val' : mino,  \n",
    "} \n",
    "  \n",
    "# creating a Dataframe object  \n",
    "df_p = pd.DataFrame(details, columns = ['ntaname', 'val'], \n",
    "                  index = rang)\n",
    "cur = -1\n",
    "for x in df_p[\"ntaname\"]:\n",
    "    cur += 1\n",
    "    for y in sames:\n",
    "        if x.find(y) != -1:\n",
    "            df_p['ntaname'] = df_p['ntaname'].replace(to_replace = df_p['ntaname'][cur],value = y)\n",
    "        else:\n",
    "            df_p.drop([df_p.index[cur]])\n",
    "merged = regions.set_index('ntaname').join(df_p.set_index('ntaname'))\n",
    "merged = merged.reset_index()\n",
    "merged[['ntaname', 'shape_area', 'shape_leng', 'geometry', 'val']].sample(5)\n",
    "\n",
    "fig, ax = plt.subplots(1, figsize=(40, 20))\n",
    "ax.axis('off')\n",
    "ax.set_title('Heat Map of Black Population in NYC Neighborhoods', fontdict={'fontsize': '40', 'fontweight' : '3'})\n",
    "\n",
    "color = 'mako_r'\n",
    "vmin, vmax = 0, 100\n",
    "sm = plt.cm.ScalarMappable(cmap=color, norm=plt.Normalize(vmin=vmin, vmax=vmax))\n",
    "sm._A = []\n",
    "cbar = fig.colorbar(sm)\n",
    "cbar.ax.tick_params(labelsize=20)\n",
    "\n",
    "merged.plot('val', cmap=color, linewidth=0.8, ax=ax, edgecolor='0.8', figsize=(40,20))\n",
    "```\n"
   ]
  },
  {
   "cell_type": "code",
   "execution_count": 5,
   "metadata": {},
   "outputs": [
    {
     "data": {
      "text/html": [
       "<img src=\"https://raw.githubusercontent.com/sam-shridhar1950f/nyc-lead/main/daby/map.png\"/>"
      ],
      "text/plain": [
       "<IPython.core.display.Image object>"
      ]
     },
     "execution_count": 5,
     "metadata": {},
     "output_type": "execute_result"
    }
   ],
   "source": [
    "Image(url= \"https://raw.githubusercontent.com/sam-shridhar1950f/nyc-lead/main/daby/map.png\")"
   ]
  },
  {
   "cell_type": "code",
   "execution_count": 7,
   "metadata": {},
   "outputs": [
    {
     "data": {
      "text/html": [
       "<img src=\"https://raw.githubusercontent.com/sam-shridhar1950f/nyc-lead/main/daby/nyc2.png\"/>"
      ],
      "text/plain": [
       "<IPython.core.display.Image object>"
      ]
     },
     "execution_count": 7,
     "metadata": {},
     "output_type": "execute_result"
    }
   ],
   "source": [
    "Image(url= \"https://raw.githubusercontent.com/sam-shridhar1950f/nyc-lead/main/daby/nyc2.png\")"
   ]
  },
  {
   "cell_type": "code",
   "execution_count": 8,
   "metadata": {},
   "outputs": [
    {
     "data": {
      "text/html": [
       "<img src=\"https://raw.githubusercontent.com/sam-shridhar1950f/nyc-lead/main/daby/map3.png\"/>"
      ],
      "text/plain": [
       "<IPython.core.display.Image object>"
      ]
     },
     "execution_count": 8,
     "metadata": {},
     "output_type": "execute_result"
    }
   ],
   "source": [
    "Image(url= \"https://raw.githubusercontent.com/sam-shridhar1950f/nyc-lead/main/daby/map3.png\")"
   ]
  },
  {
   "cell_type": "markdown",
   "metadata": {},
   "source": [
    "##### Cross-referencing NYC's black population and lead hotspots, the two exclusively-compiled datasets elucidate a strong correlation."
   ]
  },
  {
   "cell_type": "markdown",
   "metadata": {},
   "source": [
    "##### This graph above highlights the areas where high lead risks intertwine with high black populations."
   ]
  },
  {
   "cell_type": "markdown",
   "metadata": {},
   "source": [
    "```python\n",
    "\n",
    "def converter(cluster):\n",
    "    if cluster == \"Brooklyn\":\n",
    "        return 1\n",
    "    if cluster == \"Manhattan\":\n",
    "        return 2\n",
    "    if cluster == \"Staten Island\":\n",
    "        return 3\n",
    "    if cluster == \"Bronx\":\n",
    "        return 4\n",
    "    if cluster == \"Queens\":\n",
    "        return 5\n",
    "    \n",
    "df_pov[\"Cluster\"] = df_pov[\"Borough\"].apply(converter)\n",
    "\n",
    "from sklearn.preprocessing import StandardScaler\n",
    "df_pov_u.drop(\"Unnamed: 0\", axis=1, inplace=True)\n",
    "df_pov_u[\"Cluster\"] = df_pov_u[\"Borough\"].apply(converter)\n",
    "\n",
    "scaler = StandardScaler()\n",
    "df_pov_u.drop(\"Borough\", axis=1, inplace=True)\n",
    "scaler.fit(df_pov_u)\n",
    "\n",
    "scaled_data = scaler.transform(df_pov_u)\n",
    "\n",
    "from sklearn.decomposition import PCA\n",
    "\n",
    "pca = PCA(n_components=2)\n",
    "\n",
    "pca.fit(scaled_data)\n",
    "x_pca = pca.transform(scaled_data)\n",
    "\n",
    "sns.set_style('darkgrid')\n",
    "plt.figure(figsize=(12,8))\n",
    "plt.scatter(x_pca[:, 0], x_pca[:, 1],\n",
    "            c=df_pov_u[\"Cluster\"], lw=0.1, edgecolor='none', alpha=1,\n",
    "            cmap=plt.cm.get_cmap('seismic', 5))\n",
    "plt.xlabel('component 1')\n",
    "plt.ylabel('component 2')\n",
    "plt.colorbar(ticks=[1,2,3,4,5])\n",
    "plt.clim(1, 5)\n",
    "```"
   ]
  },
  {
   "cell_type": "code",
   "execution_count": 9,
   "metadata": {},
   "outputs": [
    {
     "data": {
      "text/html": [
       "<img src=\"https://raw.githubusercontent.com/sam-shridhar1950f/nyc-lead/main/daby/finalmap.png\"/>"
      ],
      "text/plain": [
       "<IPython.core.display.Image object>"
      ]
     },
     "execution_count": 9,
     "metadata": {},
     "output_type": "execute_result"
    }
   ],
   "source": [
    "Image(url= \"https://raw.githubusercontent.com/sam-shridhar1950f/nyc-lead/main/daby/finalmap.png\")"
   ]
  },
  {
   "cell_type": "markdown",
   "metadata": {},
   "source": [
    "#### This graph plots the Principal Component Analysis."
   ]
  }
 ],
 "metadata": {
  "kernelspec": {
   "display_name": "Python 3",
   "language": "python",
   "name": "python3"
  },
  "language_info": {
   "codemirror_mode": {
    "name": "ipython",
    "version": 3
   },
   "file_extension": ".py",
   "mimetype": "text/x-python",
   "name": "python",
   "nbconvert_exporter": "python",
   "pygments_lexer": "ipython3",
   "version": "3.7.6"
  }
 },
 "nbformat": 4,
 "nbformat_minor": 4
}
